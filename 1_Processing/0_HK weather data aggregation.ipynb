{
 "cells": [
  {
   "cell_type": "markdown",
   "metadata": {},
   "source": [
    "# Hong Kong Weather data Preparation & Data Quality check\n",
    "\n",
    "Here I aggregate 38 datasets coming from different observatory for daily Temperature, Humidity and Rainfall data. For each dataset, I check the number and the percentage of invalid observations (value of \\*\\*\\*).\n",
    "\n",
    "After aggregating, a global dataset by the information is created, so that we have **three global datasets** in the end."
   ]
  },
  {
   "cell_type": "code",
   "execution_count": 1,
   "metadata": {},
   "outputs": [],
   "source": [
    "# Necessary modules\n",
    "import pandas as pd  # type: ignore\n",
    "import time\n",
    "import datetime\n",
    "import os\n",
    "import glob\n",
    "import numpy as np # type: ignore"
   ]
  },
  {
   "cell_type": "markdown",
   "metadata": {},
   "source": [
    "## (1) Hong Kong Maximal Temperature Dataset"
   ]
  },
  {
   "cell_type": "code",
   "execution_count": 14,
   "metadata": {},
   "outputs": [],
   "source": [
    "# Public Data Downloaded from HK Data Gov website\n",
    "# CSV File list in 0_Data directory:\n",
    "list_files = glob.glob(\"../0_Data/Temperature/*.csv\")\n",
    "\n",
    "# Aggregated Data templete:\n",
    "Agg_Data = pd.DataFrame()\n",
    "Data_summary = pd.DataFrame()\n",
    "\n",
    "for Data_by_dist in list_files:\n",
    "    \n",
    "    Max_region=pd.read_csv(Data_by_dist, \n",
    "                       sep=\",\", skiprows=3, header = None)\n",
    "\n",
    "    # LMMAXT_HKP_: Full Data before any filtering\n",
    "    LMMAXT_HKP_ = pd.DataFrame(Max_region)\n",
    "    LMMAXT_HKP_.columns = ['year', 'month', 'day', 'value', 'Flag']\n",
    "    \n",
    "    # Data Quality indicators:\n",
    "    Obs_summary = pd.DataFrame({'Dist': [Data_by_dist.split(\"Data/Temperature/\")[1].split(\"_\")[1]],\n",
    "                                'NObs_Dist': [LMMAXT_HKP_.shape[0]],\n",
    "                                'NObs_Flagged': [LMMAXT_HKP_.loc[LMMAXT_HKP_['Flag']==\"#\"].shape[0]],\n",
    "                                'NObs_Starred': [LMMAXT_HKP_.loc[LMMAXT_HKP_['value']==\"***\"].shape[0]],\n",
    "                                'NObs_Str_Flagged': [LMMAXT_HKP_.loc[(LMMAXT_HKP_['value']==\"***\")&(LMMAXT_HKP_['Flag']==\"#\")].shape[0]]                          \n",
    "                                #'NObs_2007': LMMAXT_HKP_.loc[LMMAXT_HKP_['year']=='2007'].shape[0],\n",
    "                                #'NObs_St_or_2007': LMMAXT_HKP_.loc[(LMMAXT_HKP_['year']=='2007')|(LMMAXT_HKP_['value']==\"***\")].shape[0]\n",
    "                                })\n",
    "   \n",
    "    Obs_summary['Starred_Pct(%)'] = round(100*Obs_summary['NObs_Starred']/Obs_summary['NObs_Dist'],2)\n",
    "    #Obs_summary['Tot_Purge_Pct(%)'] = round(100*Obs_summary['NObs_St_or_2007']/Obs_summary['NObs_Dist'],2)\n",
    "        \n",
    "    ## Data Filter ##\n",
    "    # LMMAXT_HKP_2: Filtered Data\n",
    "    # F1: Delete the last 3 lines:\n",
    "    LMMAXT_HKP_2 = LMMAXT_HKP_.iloc[:-3]\n",
    "    LMMAXT_HKP_2.reset_index(inplace=True, drop=True) \n",
    "    LMMAXT_HKP_2.loc[:,'month'] = LMMAXT_HKP_2['month'].values.astype(int)\n",
    "    LMMAXT_HKP_2.loc[:,'day'] = LMMAXT_HKP_2['day'].values.astype(int)\n",
    "    LMMAXT_HKP_2 = LMMAXT_HKP_2.loc[LMMAXT_HKP_2['value']!=\"***\"]\n",
    "    LMMAXT_HKP_2.reset_index(inplace=True, drop=True) \n",
    "    LMMAXT_HKP_2.loc[:,'value'] = LMMAXT_HKP_2['value'].values.astype(float)\n",
    "\n",
    "    # F2: Delete data of 2007 since incomplete (only from october)\n",
    "    #LMMAXT_HKP_2 = LMMAXT_HKP_2.loc[LMMAXT_HKP_2['year']!='2007']\n",
    "    \n",
    "    # Insert the Observatory Name:\n",
    "    LMMAXT_HKP_2['Dist'] = Data_by_dist.split(\"Data/Temperature/\")[1].split(\"_\")[1]\n",
    "\n",
    "    # Date parsing \n",
    "    LMMAXT_HKP_date = pd.to_datetime(LMMAXT_HKP_2[['year','month', 'day']])\n",
    "    #LMMAXT_HKP_date = LMMAXT_HKP_date.dt.dayofyear\n",
    "    \n",
    "    # Concatenate parsed date + Table \n",
    "    # LMMAXT_HKP_3: Concatenated Data\n",
    "    LMMAXT_HKP_3 = pd.concat([LMMAXT_HKP_date, \n",
    "                              LMMAXT_HKP_2[['Dist','year','value', 'Flag']]],\n",
    "            axis = 1)\n",
    "    LMMAXT_HKP_3 = LMMAXT_HKP_3.rename(columns = {0: \"Date\"})\n",
    "    \n",
    "    \n",
    "    # Information on the observed period by Observatory:\n",
    "    Obs_summary['StartDate'] = LMMAXT_HKP_date.min()\n",
    "    Obs_summary['EndDate'] = LMMAXT_HKP_date.max()\n",
    "    \n",
    "    Data_summary = pd.concat([Data_summary, Obs_summary], axis = 0)\n",
    "    \n",
    "    Agg_Data = pd.concat([Agg_Data, LMMAXT_HKP_3], axis = 0, ignore_index=True)"
   ]
  },
  {
   "cell_type": "markdown",
   "metadata": {},
   "source": [
    "Check if all the lines are completed, computing the percentage of null values:"
   ]
  },
  {
   "cell_type": "code",
   "execution_count": 15,
   "metadata": {},
   "outputs": [
    {
     "data": {
      "text/plain": [
       "0.0"
      ]
     },
     "execution_count": 15,
     "metadata": {},
     "output_type": "execute_result"
    }
   ],
   "source": [
    "round(100*Agg_Data.loc[Agg_Data['value'].isna()!=False].shape[0]/Agg_Data.shape[0],1)"
   ]
  },
  {
   "cell_type": "markdown",
   "metadata": {},
   "source": [
    "Total number of observations before filtering (From all observatories):"
   ]
  },
  {
   "cell_type": "code",
   "execution_count": 16,
   "metadata": {},
   "outputs": [
    {
     "name": "stdout",
     "output_type": "stream",
     "text": [
      "362334\n"
     ]
    }
   ],
   "source": [
    "total_obs = Data_summary['NObs_Dist'].sum()\n",
    "print(total_obs)"
   ]
  },
  {
   "cell_type": "markdown",
   "metadata": {},
   "source": [
    "Total number of observations after filtering on 2007 and the starred observations (From all observatories):"
   ]
  },
  {
   "cell_type": "code",
   "execution_count": 17,
   "metadata": {},
   "outputs": [
    {
     "data": {
      "text/plain": [
       "358380"
      ]
     },
     "execution_count": 17,
     "metadata": {},
     "output_type": "execute_result"
    }
   ],
   "source": [
    "Agg_Data.shape[0]"
   ]
  },
  {
   "cell_type": "markdown",
   "metadata": {},
   "source": [
    "Checking the total number of observations, given that we applied 2 filters and 3 lines deletion containing some suppementary informations at the end of each table:"
   ]
  },
  {
   "cell_type": "code",
   "execution_count": 20,
   "metadata": {},
   "outputs": [
    {
     "data": {
      "text/plain": [
       "np.int64(358380)"
      ]
     },
     "execution_count": 20,
     "metadata": {},
     "output_type": "execute_result"
    }
   ],
   "source": [
    "total_obs -Data_summary['NObs_Starred'].sum() -(3*38)"
   ]
  },
  {
   "cell_type": "markdown",
   "metadata": {},
   "source": [
    "Distribution by observatories:"
   ]
  },
  {
   "cell_type": "code",
   "execution_count": 21,
   "metadata": {},
   "outputs": [
    {
     "name": "stdout",
     "output_type": "stream",
     "text": [
      "  Observatory   NObs  Percentage(%)To_TotalOBS  ObservedPeriod(#Year)\n",
      "0         HKO  49006                     13.53                    144\n",
      "1         SHA  14764                      4.07                     41\n",
      "2         LFS  14399                      3.97                     40\n",
      "3         TKL  13425                      3.71                     38\n",
      "4         HKS  12999                      3.59                     37\n",
      "   Observatory  NObs  Percentage(%)To_TotalOBS  ObservedPeriod(#Year)\n",
      "33         TY1  5298                      1.46                     15\n",
      "34          TW  5201                      1.44                     15\n",
      "35         SE1  3730                      1.03                     11\n",
      "36         YLP  3637                      1.00                     11\n",
      "37         CWB  2285                      0.63                      7\n"
     ]
    }
   ],
   "source": [
    "Data_Composition = pd.DataFrame({\n",
    "    'Observatory':Data_summary['Dist'].values,\n",
    "    'NObs':Data_summary['NObs_Dist'].values,\n",
    "    'Percentage(%)To_TotalOBS':round((Data_summary['NObs_Dist']/total_obs)*100,2),\n",
    "    'ObservedPeriod(#Year)':[np.ceil(td/np.timedelta64(1, 'D')).astype(int) for td in (Data_summary['EndDate']-Data_summary['StartDate'])/(30*12)] \n",
    "})\n",
    "\n",
    "Data_Composition.sort_values(by=['Percentage(%)To_TotalOBS','ObservedPeriod(#Year)'], \n",
    "                             ascending = False,\n",
    "                             inplace = True)\n",
    "Data_Composition.reset_index(inplace=True, drop = True)\n",
    "print(Data_Composition.head())\n",
    "print(Data_Composition.tail())"
   ]
  },
  {
   "cell_type": "code",
   "execution_count": 22,
   "metadata": {},
   "outputs": [
    {
     "name": "stdout",
     "output_type": "stream",
     "text": [
      "27.2\n"
     ]
    }
   ],
   "source": [
    "print(round(Data_Composition['ObservedPeriod(#Year)'].mean(),1))"
   ]
  },
  {
   "cell_type": "markdown",
   "metadata": {},
   "source": [
    "We see that the observatory which logged Temperature data for the longest period in Hong Kong is the one in Hong Kong Observatory in Tsim Sha Tsui area (HKO, for 144 years). It composes of about 14% of the total dataset. The shortest observated period is given by Clear Water Bay Observatory (CWB, for 7 years). The mean value of the observed period over 38 observatories is 27 years.\n",
    "\n",
    "When we look for the percentage of the invalid lines (containing \\*\\*\\* value), the observatory providing the highest data quality issue is Ngong Ping Observatory (5.5%). The highest invalid data ratio (5.5%) is still relatively low. It goes down to 0% (only one line deleted) when it comes to Hong Kong Observatory which is the most historical observatory. "
   ]
  },
  {
   "cell_type": "code",
   "execution_count": 25,
   "metadata": {},
   "outputs": [
    {
     "name": "stdout",
     "output_type": "stream",
     "text": [
      "  Dist  NObs_Dist  NObs_Starred  Starred_Pct(%)\n",
      "0  NGP       7855           432            5.50\n",
      "0  SEK      10320           439            4.25\n",
      "0  WGL      12968           520            4.01\n",
      "0  JKB      12147           412            3.39\n",
      "0  TPO       8710           293            3.36\n",
      "...\n",
      "  Dist  NObs_Dist  NObs_Starred  Starred_Pct(%)\n",
      "0  TY1       5298             2            0.04\n",
      "0  SSH       7520             3            0.04\n",
      "0   TW       5201             2            0.04\n",
      "0  WTS       5816             1            0.02\n",
      "0  HKO      49006             1            0.00\n"
     ]
    }
   ],
   "source": [
    "print(Data_summary.iloc[:,[0,1,3,5]].sort_values(by='Starred_Pct(%)', ascending=False).head())\n",
    "print(\"...\")\n",
    "print(Data_summary.iloc[:,[0,1,3,5]].sort_values(by='Starred_Pct(%)', ascending=False).tail())"
   ]
  },
  {
   "cell_type": "markdown",
   "metadata": {},
   "source": [
    "Without access to the definition of these flags, I have used all numerical values including the ones flagged to '#' in Data Completeness column if it contains a normal numerical value other than '***'.\n",
    "\n",
    "As of Temperature dataset, the percentage of observations filled with '***' takes less than 1% for 71% of 38 Hong Kong districts. "
   ]
  },
  {
   "cell_type": "code",
   "execution_count": 26,
   "metadata": {},
   "outputs": [
    {
     "data": {
      "text/plain": [
       "71.0"
      ]
     },
     "execution_count": 26,
     "metadata": {},
     "output_type": "execute_result"
    }
   ],
   "source": [
    "round(100*Data_summary.loc[Data_summary['Starred_Pct(%)']<1].shape[0]/Data_summary.shape[0],0)"
   ]
  },
  {
   "cell_type": "markdown",
   "metadata": {},
   "source": [
    "Save the aggregated Temperature data in Wrangled directory:"
   ]
  },
  {
   "cell_type": "code",
   "execution_count": 27,
   "metadata": {},
   "outputs": [],
   "source": [
    "treated_data_rep = r'../0_Data/wrangled/' \n",
    "if not os.path.exists(treated_data_rep):\n",
    "    os.makedirs(treated_data_rep)\n",
    "Agg_Data.to_pickle(treated_data_rep+\"Temperature_AGG.pkl\")"
   ]
  },
  {
   "cell_type": "markdown",
   "metadata": {},
   "source": [
    "## (2) Hong Kong Mean Humidity Dataset"
   ]
  },
  {
   "cell_type": "code",
   "execution_count": 74,
   "metadata": {},
   "outputs": [
    {
     "name": "stdout",
     "output_type": "stream",
     "text": [
      "   year  month  day  value Flag\n",
      "0  1947    1.0  1.0   85.0    C\n",
      "1  1947    1.0  2.0   86.0    C\n",
      "2  1947    1.0  3.0   84.0    C\n",
      "3  1947    1.0  4.0   85.0    C\n",
      "4  1947    1.0  5.0   85.0    C\n",
      "                          year  month   day  value Flag\n",
      "28547                     2025    2.0  27.0   76.0    C\n",
      "28548                     2025    2.0  28.0   77.0    C\n",
      "28549     *** 沒有數據/unavailable    NaN   NaN    NaN  NaN\n",
      "28550  # 數據不完整/data incomplete    NaN   NaN    NaN  NaN\n",
      "28551     C 數據完整/data Complete    NaN   NaN    NaN  NaN\n"
     ]
    }
   ],
   "source": [
    "# Public Data Downloaded from HK Data Gov website\n",
    "# CSV File list in 0_Data directory:\n",
    "list_files = glob.glob(\"../0_Data/Humidity/*.csv\")\n",
    "    \n",
    "Max_region=pd.read_csv(list_files[0], \n",
    "                    sep=\",\", skiprows=3, header = None)\n",
    "\n",
    "# LMMAXT_HKP_: Full Data before any filtering\n",
    "LMMAXT_HKP_ = pd.DataFrame(Max_region)\n",
    "LMMAXT_HKP_.columns = ['year', 'month', 'day', 'value', 'Flag']\n",
    "\n",
    "print(LMMAXT_HKP_.head())\n",
    "print(LMMAXT_HKP_.tail())"
   ]
  },
  {
   "cell_type": "markdown",
   "metadata": {},
   "source": [
    "The structure of data seems exactly the same as Max Temperature dataset. Therefore, we proceed the wrangling with the same code. "
   ]
  },
  {
   "cell_type": "code",
   "execution_count": 75,
   "metadata": {},
   "outputs": [],
   "source": [
    "\n",
    "# Aggregated Data templete:\n",
    "Agg_Data = pd.DataFrame()\n",
    "Data_summary = pd.DataFrame()\n",
    "\n",
    "for Data_by_dist in list_files:\n",
    "    \n",
    "    Max_region=pd.read_csv(Data_by_dist, \n",
    "                       sep=\",\", skiprows=3, header = None)\n",
    "\n",
    "    # LMMAXT_HKP_: Full Data before any filtering\n",
    "    LMMAXT_HKP_ = pd.DataFrame(Max_region)\n",
    "    LMMAXT_HKP_.columns = ['year', 'month', 'day', 'value', 'Flag']\n",
    "    \n",
    "    # Data Quality indicators:\n",
    "    Obs_summary = pd.DataFrame({'Dist': [Data_by_dist.split(\"Data/Humidity/\")[1].split(\"_\")[1]],\n",
    "                                'NObs_Dist': [LMMAXT_HKP_.shape[0]],\n",
    "                                'NObs_Flagged': [LMMAXT_HKP_.loc[LMMAXT_HKP_['Flag']==\"#\"].shape[0]],\n",
    "                                'NObs_Starred': [LMMAXT_HKP_.loc[LMMAXT_HKP_['value']==\"***\"].shape[0]],\n",
    "                                'NObs_Str_Flagged': [LMMAXT_HKP_.loc[(LMMAXT_HKP_['value']==\"***\")&(LMMAXT_HKP_['Flag']==\"#\")].shape[0]]                          \n",
    "                                #'NObs_2007': LMMAXT_HKP_.loc[LMMAXT_HKP_['year']=='2007'].shape[0],\n",
    "                                #'NObs_St_or_2007': LMMAXT_HKP_.loc[(LMMAXT_HKP_['year']=='2007')|(LMMAXT_HKP_['value']==\"***\")].shape[0]\n",
    "                                })\n",
    "   \n",
    "    Obs_summary['Starred_Pct(%)'] = round(100*Obs_summary['NObs_Starred']/Obs_summary['NObs_Dist'],2)\n",
    "    #Obs_summary['Tot_Purge_Pct(%)'] = round(100*Obs_summary['NObs_St_or_2007']/Obs_summary['NObs_Dist'],2)\n",
    "        \n",
    "    ## Data Filter ##\n",
    "    # LMMAXT_HKP_2: Filtered Data\n",
    "    # F1: Delete the last 3 lines:\n",
    "    LMMAXT_HKP_2 = LMMAXT_HKP_.iloc[:-3]\n",
    "    LMMAXT_HKP_2.reset_index(inplace=True, drop=True) \n",
    "    LMMAXT_HKP_2.loc[:,'month'] = LMMAXT_HKP_2['month'].values.astype(int)\n",
    "    LMMAXT_HKP_2.loc[:,'day'] = LMMAXT_HKP_2['day'].values.astype(int)\n",
    "    LMMAXT_HKP_2 = LMMAXT_HKP_2.loc[LMMAXT_HKP_2['value']!=\"***\"]\n",
    "    LMMAXT_HKP_2.reset_index(inplace=True, drop=True) \n",
    "    LMMAXT_HKP_2.loc[:,'value'] = LMMAXT_HKP_2['value'].values.astype(float)\n",
    "    \n",
    "    # Insert the Observatory Name:\n",
    "    LMMAXT_HKP_2['Dist'] = Data_by_dist.split(\"Data/Humidity/\")[1].split(\"_\")[1]\n",
    "\n",
    "    # Date parsing \n",
    "    LMMAXT_HKP_date = pd.to_datetime(LMMAXT_HKP_2[['year','month', 'day']])\n",
    "    #LMMAXT_HKP_date = LMMAXT_HKP_date.dt.dayofyear\n",
    "    \n",
    "    # Concatenate parsed date + Table \n",
    "    # LMMAXT_HKP_3: Concatenated Data\n",
    "    LMMAXT_HKP_3 = pd.concat([LMMAXT_HKP_date, \n",
    "                              LMMAXT_HKP_2[['Dist','year','value', 'Flag']]],\n",
    "            axis = 1)\n",
    "    LMMAXT_HKP_3 = LMMAXT_HKP_3.rename(columns = {0: \"Date\"})\n",
    "    \n",
    "    \n",
    "    # Information on the observed period by Observatory:\n",
    "    Obs_summary['StartDate'] = LMMAXT_HKP_date.min()\n",
    "    Obs_summary['EndDate'] = LMMAXT_HKP_date.max()\n",
    "    \n",
    "    Data_summary = pd.concat([Data_summary, Obs_summary], axis = 0)\n",
    "    \n",
    "    Agg_Data = pd.concat([Agg_Data, LMMAXT_HKP_3], axis = 0, ignore_index=True)"
   ]
  },
  {
   "cell_type": "code",
   "execution_count": 91,
   "metadata": {},
   "outputs": [
    {
     "data": {
      "text/html": [
       "<div>\n",
       "<style scoped>\n",
       "    .dataframe tbody tr th:only-of-type {\n",
       "        vertical-align: middle;\n",
       "    }\n",
       "\n",
       "    .dataframe tbody tr th {\n",
       "        vertical-align: top;\n",
       "    }\n",
       "\n",
       "    .dataframe thead th {\n",
       "        text-align: right;\n",
       "    }\n",
       "</style>\n",
       "<table border=\"1\" class=\"dataframe\">\n",
       "  <thead>\n",
       "    <tr style=\"text-align: right;\">\n",
       "      <th></th>\n",
       "      <th>Dist</th>\n",
       "      <th>NObs_Dist</th>\n",
       "      <th>NObs_Flagged</th>\n",
       "      <th>NObs_Starred</th>\n",
       "      <th>NObs_Str_Flagged</th>\n",
       "      <th>Starred_Pct(%)</th>\n",
       "      <th>StartDate</th>\n",
       "      <th>EndDate</th>\n",
       "    </tr>\n",
       "  </thead>\n",
       "  <tbody>\n",
       "    <tr>\n",
       "      <th>0</th>\n",
       "      <td>HKO</td>\n",
       "      <td>28552</td>\n",
       "      <td>1</td>\n",
       "      <td>0</td>\n",
       "      <td>0</td>\n",
       "      <td>0.00</td>\n",
       "      <td>1947-01-01</td>\n",
       "      <td>2025-02-28</td>\n",
       "    </tr>\n",
       "    <tr>\n",
       "      <th>0</th>\n",
       "      <td>TWN</td>\n",
       "      <td>6882</td>\n",
       "      <td>59</td>\n",
       "      <td>12</td>\n",
       "      <td>0</td>\n",
       "      <td>0.17</td>\n",
       "      <td>2006-05-01</td>\n",
       "      <td>2025-02-28</td>\n",
       "    </tr>\n",
       "    <tr>\n",
       "      <th>0</th>\n",
       "      <td>TW</td>\n",
       "      <td>5201</td>\n",
       "      <td>70</td>\n",
       "      <td>8</td>\n",
       "      <td>0</td>\n",
       "      <td>0.15</td>\n",
       "      <td>2010-12-07</td>\n",
       "      <td>2025-02-28</td>\n",
       "    </tr>\n",
       "    <tr>\n",
       "      <th>0</th>\n",
       "      <td>LFS</td>\n",
       "      <td>14399</td>\n",
       "      <td>349</td>\n",
       "      <td>1857</td>\n",
       "      <td>0</td>\n",
       "      <td>12.90</td>\n",
       "      <td>1985-10-01</td>\n",
       "      <td>2025-02-28</td>\n",
       "    </tr>\n",
       "    <tr>\n",
       "      <th>0</th>\n",
       "      <td>YCT</td>\n",
       "      <td>1068</td>\n",
       "      <td>3</td>\n",
       "      <td>1</td>\n",
       "      <td>0</td>\n",
       "      <td>0.09</td>\n",
       "      <td>2022-04-01</td>\n",
       "      <td>2025-02-28</td>\n",
       "    </tr>\n",
       "    <tr>\n",
       "      <th>0</th>\n",
       "      <td>TKL</td>\n",
       "      <td>13425</td>\n",
       "      <td>300</td>\n",
       "      <td>580</td>\n",
       "      <td>0</td>\n",
       "      <td>4.32</td>\n",
       "      <td>1988-06-01</td>\n",
       "      <td>2025-02-28</td>\n",
       "    </tr>\n",
       "    <tr>\n",
       "      <th>0</th>\n",
       "      <td>HKS</td>\n",
       "      <td>12999</td>\n",
       "      <td>298</td>\n",
       "      <td>455</td>\n",
       "      <td>0</td>\n",
       "      <td>3.50</td>\n",
       "      <td>1989-08-01</td>\n",
       "      <td>2025-02-28</td>\n",
       "    </tr>\n",
       "    <tr>\n",
       "      <th>0</th>\n",
       "      <td>TY1</td>\n",
       "      <td>5298</td>\n",
       "      <td>61</td>\n",
       "      <td>19</td>\n",
       "      <td>0</td>\n",
       "      <td>0.36</td>\n",
       "      <td>2010-09-01</td>\n",
       "      <td>2025-02-28</td>\n",
       "    </tr>\n",
       "    <tr>\n",
       "      <th>0</th>\n",
       "      <td>WLP</td>\n",
       "      <td>7033</td>\n",
       "      <td>92</td>\n",
       "      <td>29</td>\n",
       "      <td>0</td>\n",
       "      <td>0.41</td>\n",
       "      <td>2005-12-01</td>\n",
       "      <td>2025-02-28</td>\n",
       "    </tr>\n",
       "    <tr>\n",
       "      <th>0</th>\n",
       "      <td>PEN</td>\n",
       "      <td>7581</td>\n",
       "      <td>108</td>\n",
       "      <td>74</td>\n",
       "      <td>0</td>\n",
       "      <td>0.98</td>\n",
       "      <td>2004-06-01</td>\n",
       "      <td>2025-02-28</td>\n",
       "    </tr>\n",
       "    <tr>\n",
       "      <th>0</th>\n",
       "      <td>SHA</td>\n",
       "      <td>14764</td>\n",
       "      <td>297</td>\n",
       "      <td>174</td>\n",
       "      <td>0</td>\n",
       "      <td>1.18</td>\n",
       "      <td>1984-10-02</td>\n",
       "      <td>2025-02-28</td>\n",
       "    </tr>\n",
       "    <tr>\n",
       "      <th>0</th>\n",
       "      <td>SSH</td>\n",
       "      <td>7520</td>\n",
       "      <td>44</td>\n",
       "      <td>12</td>\n",
       "      <td>0</td>\n",
       "      <td>0.16</td>\n",
       "      <td>2004-08-01</td>\n",
       "      <td>2025-02-28</td>\n",
       "    </tr>\n",
       "    <tr>\n",
       "      <th>0</th>\n",
       "      <td>KP</td>\n",
       "      <td>11934</td>\n",
       "      <td>164</td>\n",
       "      <td>9</td>\n",
       "      <td>0</td>\n",
       "      <td>0.08</td>\n",
       "      <td>1992-07-01</td>\n",
       "      <td>2025-02-28</td>\n",
       "    </tr>\n",
       "    <tr>\n",
       "      <th>0</th>\n",
       "      <td>TU1</td>\n",
       "      <td>6637</td>\n",
       "      <td>58</td>\n",
       "      <td>19</td>\n",
       "      <td>0</td>\n",
       "      <td>0.29</td>\n",
       "      <td>2007-01-01</td>\n",
       "      <td>2025-02-28</td>\n",
       "    </tr>\n",
       "    <tr>\n",
       "      <th>0</th>\n",
       "      <td>TC</td>\n",
       "      <td>9773</td>\n",
       "      <td>209</td>\n",
       "      <td>257</td>\n",
       "      <td>0</td>\n",
       "      <td>2.63</td>\n",
       "      <td>1998-06-01</td>\n",
       "      <td>2025-02-28</td>\n",
       "    </tr>\n",
       "    <tr>\n",
       "      <th>0</th>\n",
       "      <td>KSC</td>\n",
       "      <td>6059</td>\n",
       "      <td>223</td>\n",
       "      <td>65</td>\n",
       "      <td>0</td>\n",
       "      <td>1.07</td>\n",
       "      <td>2008-08-01</td>\n",
       "      <td>2025-02-28</td>\n",
       "    </tr>\n",
       "    <tr>\n",
       "      <th>0</th>\n",
       "      <td>CCH</td>\n",
       "      <td>12025</td>\n",
       "      <td>267</td>\n",
       "      <td>131</td>\n",
       "      <td>0</td>\n",
       "      <td>1.09</td>\n",
       "      <td>1992-04-01</td>\n",
       "      <td>2025-02-28</td>\n",
       "    </tr>\n",
       "    <tr>\n",
       "      <th>0</th>\n",
       "      <td>TYW</td>\n",
       "      <td>10747</td>\n",
       "      <td>376</td>\n",
       "      <td>405</td>\n",
       "      <td>0</td>\n",
       "      <td>3.77</td>\n",
       "      <td>1995-10-01</td>\n",
       "      <td>2025-02-28</td>\n",
       "    </tr>\n",
       "    <tr>\n",
       "      <th>0</th>\n",
       "      <td>SEK</td>\n",
       "      <td>10320</td>\n",
       "      <td>176</td>\n",
       "      <td>586</td>\n",
       "      <td>0</td>\n",
       "      <td>5.68</td>\n",
       "      <td>1996-12-01</td>\n",
       "      <td>2025-02-28</td>\n",
       "    </tr>\n",
       "    <tr>\n",
       "      <th>0</th>\n",
       "      <td>TMS</td>\n",
       "      <td>10289</td>\n",
       "      <td>311</td>\n",
       "      <td>401</td>\n",
       "      <td>0</td>\n",
       "      <td>3.90</td>\n",
       "      <td>1997-01-01</td>\n",
       "      <td>2025-02-28</td>\n",
       "    </tr>\n",
       "    <tr>\n",
       "      <th>0</th>\n",
       "      <td>WGL</td>\n",
       "      <td>12968</td>\n",
       "      <td>508</td>\n",
       "      <td>872</td>\n",
       "      <td>0</td>\n",
       "      <td>6.72</td>\n",
       "      <td>1989-09-01</td>\n",
       "      <td>2025-02-28</td>\n",
       "    </tr>\n",
       "    <tr>\n",
       "      <th>0</th>\n",
       "      <td>JKB</td>\n",
       "      <td>12147</td>\n",
       "      <td>156</td>\n",
       "      <td>2101</td>\n",
       "      <td>0</td>\n",
       "      <td>17.30</td>\n",
       "      <td>1991-12-01</td>\n",
       "      <td>2025-02-28</td>\n",
       "    </tr>\n",
       "    <tr>\n",
       "      <th>0</th>\n",
       "      <td>SKG</td>\n",
       "      <td>11660</td>\n",
       "      <td>139</td>\n",
       "      <td>43</td>\n",
       "      <td>0</td>\n",
       "      <td>0.37</td>\n",
       "      <td>1993-04-01</td>\n",
       "      <td>2025-02-28</td>\n",
       "    </tr>\n",
       "    <tr>\n",
       "      <th>0</th>\n",
       "      <td>HKA</td>\n",
       "      <td>10138</td>\n",
       "      <td>10</td>\n",
       "      <td>0</td>\n",
       "      <td>0</td>\n",
       "      <td>0.00</td>\n",
       "      <td>1997-06-01</td>\n",
       "      <td>2025-02-28</td>\n",
       "    </tr>\n",
       "  </tbody>\n",
       "</table>\n",
       "</div>"
      ],
      "text/plain": [
       "  Dist  NObs_Dist  NObs_Flagged  NObs_Starred  NObs_Str_Flagged  \\\n",
       "0  HKO      28552             1             0                 0   \n",
       "0  TWN       6882            59            12                 0   \n",
       "0   TW       5201            70             8                 0   \n",
       "0  LFS      14399           349          1857                 0   \n",
       "0  YCT       1068             3             1                 0   \n",
       "0  TKL      13425           300           580                 0   \n",
       "0  HKS      12999           298           455                 0   \n",
       "0  TY1       5298            61            19                 0   \n",
       "0  WLP       7033            92            29                 0   \n",
       "0  PEN       7581           108            74                 0   \n",
       "0  SHA      14764           297           174                 0   \n",
       "0  SSH       7520            44            12                 0   \n",
       "0   KP      11934           164             9                 0   \n",
       "0  TU1       6637            58            19                 0   \n",
       "0   TC       9773           209           257                 0   \n",
       "0  KSC       6059           223            65                 0   \n",
       "0  CCH      12025           267           131                 0   \n",
       "0  TYW      10747           376           405                 0   \n",
       "0  SEK      10320           176           586                 0   \n",
       "0  TMS      10289           311           401                 0   \n",
       "0  WGL      12968           508           872                 0   \n",
       "0  JKB      12147           156          2101                 0   \n",
       "0  SKG      11660           139            43                 0   \n",
       "0  HKA      10138            10             0                 0   \n",
       "\n",
       "   Starred_Pct(%)  StartDate    EndDate  \n",
       "0            0.00 1947-01-01 2025-02-28  \n",
       "0            0.17 2006-05-01 2025-02-28  \n",
       "0            0.15 2010-12-07 2025-02-28  \n",
       "0           12.90 1985-10-01 2025-02-28  \n",
       "0            0.09 2022-04-01 2025-02-28  \n",
       "0            4.32 1988-06-01 2025-02-28  \n",
       "0            3.50 1989-08-01 2025-02-28  \n",
       "0            0.36 2010-09-01 2025-02-28  \n",
       "0            0.41 2005-12-01 2025-02-28  \n",
       "0            0.98 2004-06-01 2025-02-28  \n",
       "0            1.18 1984-10-02 2025-02-28  \n",
       "0            0.16 2004-08-01 2025-02-28  \n",
       "0            0.08 1992-07-01 2025-02-28  \n",
       "0            0.29 2007-01-01 2025-02-28  \n",
       "0            2.63 1998-06-01 2025-02-28  \n",
       "0            1.07 2008-08-01 2025-02-28  \n",
       "0            1.09 1992-04-01 2025-02-28  \n",
       "0            3.77 1995-10-01 2025-02-28  \n",
       "0            5.68 1996-12-01 2025-02-28  \n",
       "0            3.90 1997-01-01 2025-02-28  \n",
       "0            6.72 1989-09-01 2025-02-28  \n",
       "0           17.30 1991-12-01 2025-02-28  \n",
       "0            0.37 1993-04-01 2025-02-28  \n",
       "0            0.00 1997-06-01 2025-02-28  "
      ]
     },
     "execution_count": 91,
     "metadata": {},
     "output_type": "execute_result"
    }
   ],
   "source": [
    "Data_summary"
   ]
  },
  {
   "cell_type": "code",
   "execution_count": null,
   "metadata": {},
   "outputs": [],
   "source": []
  },
  {
   "cell_type": "code",
   "execution_count": 95,
   "metadata": {},
   "outputs": [
    {
     "name": "stdout",
     "output_type": "stream",
     "text": [
      "(1) NA value percentage (%): 0.0 % \n",
      "\n",
      "(2-1) Total number of observations (From Summary table sum-up): 249419) \n",
      "\n",
      "(2-2) Total number of observations (From Aggregated data number of row counting): 241237 \n",
      "\n",
      "(3) The number of observations after filter application (From Summary table sum-up deducted the # of filtered lines): 241237 \n",
      "\n",
      "(4) Humidity data observed period: \n",
      "\n",
      "  Observatory   NObs  Percentage(%)To_TotalOBS  ObservedPeriod(#Year)\n",
      "0         HKO  28552                     11.45                     80\n",
      "1         SHA  14764                      5.92                     41\n",
      "2         LFS  14399                      5.77                     40\n",
      "3         TKL  13425                      5.38                     38\n",
      "4         HKS  12999                      5.21                     37\n",
      "   Observatory  NObs  Percentage(%)To_TotalOBS  ObservedPeriod(#Year)\n",
      "19         TU1  6637                      2.66                     19\n",
      "20         KSC  6059                      2.43                     17\n",
      "21         TY1  5298                      2.12                     15\n",
      "22          TW  5201                      2.09                     15\n",
      "23         YCT  1068                      0.43                      3\n",
      "\n",
      " (5) Humidity data mean observed period: 29.4 year\n"
     ]
    }
   ],
   "source": [
    "total_obs = Data_summary['NObs_Dist'].sum()\n",
    "Data_Composition = pd.DataFrame({\n",
    "    'Observatory':Data_summary['Dist'].values,\n",
    "    'NObs':Data_summary['NObs_Dist'].values,\n",
    "    'Percentage(%)To_TotalOBS':round((Data_summary['NObs_Dist']/total_obs)*100,2),\n",
    "    'ObservedPeriod(#Year)':[np.ceil(td/np.timedelta64(1, 'D')).astype(int) for td in (Data_summary['EndDate']-Data_summary['StartDate'])/(30*12)] \n",
    "})\n",
    "\n",
    "Data_Composition.sort_values(by=['Percentage(%)To_TotalOBS','ObservedPeriod(#Year)'], \n",
    "                             ascending = False,\n",
    "                             inplace = True)\n",
    "Data_Composition.reset_index(inplace=True, drop = True)\n",
    "\n",
    "print(f\"(1) NA value percentage (%): {round(100*Agg_Data.loc[Agg_Data['value'].isna()!=False].shape[0]/Agg_Data.shape[0],1)} % \\n\")\n",
    "print(f\"(2-1) Total number of observations (From Summary table sum-up): {total_obs}) \\n\")\n",
    "print(f\"(2-2) Total number of observations (From Aggregated data number of row counting): {Agg_Data.shape[0]} \\n\")\n",
    "print(f\"(3) The number of observations after filter application (From Summary table sum-up deducted the # of filtered lines): {total_obs - Data_summary['NObs_Starred'].sum() -(3*24)} \\n\")\n",
    "print(\"(4) Humidity data observed period: \\n\")\n",
    "print(Data_Composition.head())\n",
    "print(Data_Composition.tail())\n",
    "print(f\"\\n (5) Humidity data mean observed period: {round(Data_Composition['ObservedPeriod(#Year)'].mean(),1)} year\")"
   ]
  },
  {
   "cell_type": "markdown",
   "metadata": {},
   "source": [
    "For Humidity data, the mean observed period of all the observatories is about 29 years, similar to Temperature data but slightly longer. The maximal observed period is 80 years, also for Hong Kong Observatory. \n",
    "\n",
    "In contrary, the percentage of null values (\\*\\*\\*) are higher for Humidity dataset. Its maximal value is observed up to 17% (vs. 5.5% for Temperature dataset). The data quality, at least as of the starred observations, is also very good for the most historical observatory, Hong Kong Observatory. The other observatory which has 0 starred observation is Hong Kong International Airport (HKA).\n",
    "\n",
    "Data Quality in general is worse for Humidity dataset, when it comes to the percentage of observatories having less than 1% of their dataset filled by starred lines. It only counts 50% of all the observatories, in contrary to Temperature dataset (71%)."
   ]
  },
  {
   "cell_type": "code",
   "execution_count": 102,
   "metadata": {},
   "outputs": [
    {
     "name": "stdout",
     "output_type": "stream",
     "text": [
      "(6) Missing values by Observatory: \n",
      "\n",
      "  Dist  NObs_Dist  NObs_Starred  Starred_Pct(%)\n",
      "0  JKB      12147          2101           17.30\n",
      "0  LFS      14399          1857           12.90\n",
      "0  WGL      12968           872            6.72\n",
      "0  SEK      10320           586            5.68\n",
      "0  TKL      13425           580            4.32\n",
      "\n",
      "...\n",
      "\n",
      "  Dist  NObs_Dist  NObs_Starred  Starred_Pct(%)\n",
      "0   TW       5201             8            0.15\n",
      "0  YCT       1068             1            0.09\n",
      "0   KP      11934             9            0.08\n",
      "0  HKO      28552             0            0.00\n",
      "0  HKA      10138             0            0.00\n",
      "\n",
      " (7) Percentage of observatories with less than 1% of missing values: 50.0 %\n"
     ]
    }
   ],
   "source": [
    "print(\"(6) Missing values by Observatory: \\n\")\n",
    "print(Data_summary.iloc[:,[0,1,3,5]].sort_values(by='Starred_Pct(%)', ascending=False).head())\n",
    "print(\"\\n...\\n\")\n",
    "print(Data_summary.iloc[:,[0,1,3,5]].sort_values(by='Starred_Pct(%)', ascending=False).tail())\n",
    "print(f\"\\n (7) Percentage of observatories with less than 1% of missing values: {round(100*Data_summary.loc[Data_summary['Starred_Pct(%)']<1].shape[0]/Data_summary.shape[0],0)} %\")\n"
   ]
  },
  {
   "cell_type": "code",
   "execution_count": 103,
   "metadata": {},
   "outputs": [],
   "source": [
    "treated_data_rep = r'../0_Data/wrangled/' \n",
    "if not os.path.exists(treated_data_rep):\n",
    "    os.makedirs(treated_data_rep)\n",
    "Agg_Data.to_pickle(treated_data_rep+\"Humidity_AGG.pkl\")"
   ]
  }
 ],
 "metadata": {
  "kernelspec": {
   "display_name": ".venv",
   "language": "python",
   "name": "python3"
  },
  "language_info": {
   "codemirror_mode": {
    "name": "ipython",
    "version": 3
   },
   "file_extension": ".py",
   "mimetype": "text/x-python",
   "name": "python",
   "nbconvert_exporter": "python",
   "pygments_lexer": "ipython3",
   "version": "3.12.8"
  }
 },
 "nbformat": 4,
 "nbformat_minor": 2
}
