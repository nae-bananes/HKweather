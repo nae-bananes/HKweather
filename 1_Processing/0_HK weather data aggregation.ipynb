{
 "cells": [
  {
   "cell_type": "markdown",
   "metadata": {},
   "source": [
    "# Hong Kong Weather data Preparation & Data Quality check\n",
    "\n",
    "Here I aggregate 38 datasets coming from different observatory for daily Temperature, Humidity and Rainfall data. For each dataset, I check the number and the percentage of invalid observations (value of \\*\\*\\*).\n",
    "\n",
    "After aggregating, a global dataset by the information is created, so that we have **three global datasets** in the end."
   ]
  },
  {
   "cell_type": "code",
   "execution_count": null,
   "metadata": {},
   "outputs": [],
   "source": [
    "# Necessary modules\n",
    "import pandas as pd\n",
    "import time\n",
    "import datetime\n",
    "import os\n",
    "import glob\n",
    "import numpy as np"
   ]
  },
  {
   "cell_type": "markdown",
   "metadata": {},
   "source": [
    "## (1) Hong Kong Temperature Dataset"
   ]
  },
  {
   "cell_type": "code",
   "execution_count": null,
   "metadata": {},
   "outputs": [
    {
     "data": {
      "text/html": [
       "<div>\n",
       "<style scoped>\n",
       "    .dataframe tbody tr th:only-of-type {\n",
       "        vertical-align: middle;\n",
       "    }\n",
       "\n",
       "    .dataframe tbody tr th {\n",
       "        vertical-align: top;\n",
       "    }\n",
       "\n",
       "    .dataframe thead th {\n",
       "        text-align: right;\n",
       "    }\n",
       "</style>\n",
       "<table border=\"1\" class=\"dataframe\">\n",
       "  <thead>\n",
       "    <tr style=\"text-align: right;\">\n",
       "      <th></th>\n",
       "      <th>Dist</th>\n",
       "      <th>NObs_Dist</th>\n",
       "      <th>NObs_Flagged</th>\n",
       "      <th>NObs_Starred</th>\n",
       "      <th>NObs_Str_Shrp</th>\n",
       "      <th>Purge_Pct(%)</th>\n",
       "      <th>StartDate</th>\n",
       "      <th>EndDate</th>\n",
       "    </tr>\n",
       "  </thead>\n",
       "  <tbody>\n",
       "    <tr>\n",
       "      <th>0</th>\n",
       "      <td>HKO</td>\n",
       "      <td>49006</td>\n",
       "      <td>0</td>\n",
       "      <td>1</td>\n",
       "      <td>0</td>\n",
       "      <td>0.0</td>\n",
       "      <td>1884-01-01</td>\n",
       "      <td>2025-02-28</td>\n",
       "    </tr>\n",
       "  </tbody>\n",
       "</table>\n",
       "</div>"
      ],
      "text/plain": [
       "  Dist  NObs_Dist  NObs_Flagged  NObs_Starred  NObs_Str_Shrp  Purge_Pct(%)  \\\n",
       "0  HKO      49006             0             1              0           0.0   \n",
       "\n",
       "   StartDate    EndDate  \n",
       "0 1884-01-01 2025-02-28  "
      ]
     },
     "execution_count": 83,
     "metadata": {},
     "output_type": "execute_result"
    }
   ],
   "source": [
    "list_files = glob.glob(\"../0_Data/Temperature/*.csv\")\n",
    "Data_by_dist = \"../0_Data/Temperature/CLMMAXT_HKO_.csv\"\n",
    "\n",
    "Max_region=pd.read_csv(Data_by_dist, \n",
    "                sep=\",\", skiprows=3, header = None)\n",
    "\n",
    "# LMMAXT_HKP_: Full Data before any filtering\n",
    "LMMAXT_HKP_ = pd.DataFrame(Max_region)\n",
    "LMMAXT_HKP_.columns = ['year', 'month', 'day', 'value', 'Flag']\n",
    "\n",
    "# Data Quality indicators:\n",
    "Obs_summary = pd.DataFrame({'Dist': [Data_by_dist.split(\"Data/Temperature/\")[1].split(\"_\")[1]],\n",
    "                            'NObs_Dist': [LMMAXT_HKP_.shape[0]],\n",
    "                            'NObs_Flagged': [LMMAXT_HKP_.loc[LMMAXT_HKP_['Flag']==\"#\"].shape[0]],\n",
    "                            'NObs_Starred': [LMMAXT_HKP_.loc[LMMAXT_HKP_['value']==\"***\"].shape[0]],\n",
    "                            'NObs_Str_Shrp': [LMMAXT_HKP_.loc[(LMMAXT_HKP_['value']==\"***\")&(LMMAXT_HKP_['Flag']==\"#\")].shape[0]],\n",
    "                            \n",
    "                            })\n",
    "\n",
    "Obs_summary['Purge_Pct(%)'] = round(100*Obs_summary['NObs_Starred']/Obs_summary['NObs_Dist'],2)\n",
    "Data_summary = pd.concat([Data_summary, Obs_summary], axis = 0)\n",
    "\n",
    "## Data Filter ##\n",
    "# LMMAXT_HKP_2: Filtered Data\n",
    "# F1: Delete the last 3 lines:\n",
    "LMMAXT_HKP_2 = LMMAXT_HKP_.iloc[:-3]\n",
    "LMMAXT_HKP_2.reset_index(inplace=True, drop=True) \n",
    "LMMAXT_HKP_2.loc[:,'month'] = LMMAXT_HKP_2['month'].values.astype(int)\n",
    "LMMAXT_HKP_2.loc[:,'day'] = LMMAXT_HKP_2['day'].values.astype(int)\n",
    "LMMAXT_HKP_2 = LMMAXT_HKP_2.loc[LMMAXT_HKP_2['value']!=\"***\"]\n",
    "LMMAXT_HKP_2.reset_index(inplace=True, drop=True) \n",
    "LMMAXT_HKP_2.loc[:,'value'] = LMMAXT_HKP_2['value'].values.astype(float)\n",
    "\n",
    "\n",
    "# F2: Delete data of 2007 since incomplete (only from october)\n",
    "LMMAXT_HKP_2 = LMMAXT_HKP_2.loc[LMMAXT_HKP_2['year']!='2007']\n",
    "# Date parsing \n",
    "LMMAXT_HKP_date = pd.to_datetime(LMMAXT_HKP_2[['year','month', 'day']])\n",
    "#LMMAXT_HKP_date = LMMAXT_HKP_date.dt.dayofyear\n",
    "\n"
   ]
  },
  {
   "cell_type": "code",
   "execution_count": 75,
   "metadata": {},
   "outputs": [
    {
     "data": {
      "text/plain": [
       "year     1900\n",
       "month     2.0\n",
       "day      29.0\n",
       "value     ***\n",
       "Flag      NaN\n",
       "Name: 5903, dtype: object"
      ]
     },
     "execution_count": 75,
     "metadata": {},
     "output_type": "execute_result"
    }
   ],
   "source": [
    "list_files = glob.glob(\"../0_Data/Temperature/*.csv\")\n",
    "Data_by_dist = \"../0_Data/Temperature/CLMMAXT_HKO_.csv\"\n",
    "\n",
    "Max_region=pd.read_csv(Data_by_dist, \n",
    "                sep=\",\", skiprows=3, header = None)\n",
    "\n",
    "# LMMAXT_HKP_: Full Data before any filtering\n",
    "LMMAXT_HKP_ = pd.DataFrame(Max_region)\n",
    "LMMAXT_HKP_.columns = ['year', 'month', 'day', 'value', 'Flag']\n",
    "LMMAXT_HKP_.iloc[5903]"
   ]
  },
  {
   "cell_type": "code",
   "execution_count": 88,
   "metadata": {},
   "outputs": [],
   "source": [
    "# Public Data Downloaded from HK Data Gov website\n",
    "# CSV File list in 0_Data directory:\n",
    "list_files = glob.glob(\"../0_Data/Temperature/*.csv\")\n",
    "\n",
    "# Aggregated Data templete:\n",
    "Agg_Data = pd.DataFrame()\n",
    "Data_summary = pd.DataFrame()\n",
    "\n",
    "for Data_by_dist in list_files:\n",
    "    \n",
    "    Max_region=pd.read_csv(Data_by_dist, \n",
    "                       sep=\",\", skiprows=3, header = None)\n",
    "\n",
    "    # LMMAXT_HKP_: Full Data before any filtering\n",
    "    LMMAXT_HKP_ = pd.DataFrame(Max_region)\n",
    "    LMMAXT_HKP_.columns = ['year', 'month', 'day', 'value', 'Flag']\n",
    "    \n",
    "    # Data Quality indicators:\n",
    "    Obs_summary = pd.DataFrame({'Dist': [Data_by_dist.split(\"Data/Temperature/\")[1].split(\"_\")[1]],\n",
    "                                'NObs_Dist': [LMMAXT_HKP_.shape[0]],\n",
    "                                'NObs_Flagged': [LMMAXT_HKP_.loc[LMMAXT_HKP_['Flag']==\"#\"].shape[0]],\n",
    "                                'NObs_Starred': [LMMAXT_HKP_.loc[LMMAXT_HKP_['value']==\"***\"].shape[0]],\n",
    "                                'NObs_Str_Shrp': [LMMAXT_HKP_.loc[(LMMAXT_HKP_['value']==\"***\")&(LMMAXT_HKP_['Flag']==\"#\")].shape[0]],                          \n",
    "                                })\n",
    "   \n",
    "    Obs_summary['Purge_Pct(%)'] = round(100*Obs_summary['NObs_Starred']/Obs_summary['NObs_Dist'],2)\n",
    "        \n",
    "    ## Data Filter ##\n",
    "    # LMMAXT_HKP_2: Filtered Data\n",
    "    # F1: Delete the last 3 lines:\n",
    "    LMMAXT_HKP_2 = LMMAXT_HKP_.iloc[:-3]\n",
    "    LMMAXT_HKP_2.reset_index(inplace=True, drop=True) \n",
    "    LMMAXT_HKP_2.loc[:,'month'] = LMMAXT_HKP_2['month'].values.astype(int)\n",
    "    LMMAXT_HKP_2.loc[:,'day'] = LMMAXT_HKP_2['day'].values.astype(int)\n",
    "    LMMAXT_HKP_2 = LMMAXT_HKP_2.loc[LMMAXT_HKP_2['value']!=\"***\"]\n",
    "    LMMAXT_HKP_2.reset_index(inplace=True, drop=True) \n",
    "    LMMAXT_HKP_2.loc[:,'value'] = LMMAXT_HKP_2['value'].values.astype(float)\n",
    "\n",
    "    # F2: Delete data of 2007 since incomplete (only from october)\n",
    "    LMMAXT_HKP_2 = LMMAXT_HKP_2.loc[LMMAXT_HKP_2['year']!='2007']\n",
    "\n",
    "    # Date parsing \n",
    "    LMMAXT_HKP_date = pd.to_datetime(LMMAXT_HKP_2[['year','month', 'day']])\n",
    "    #LMMAXT_HKP_date = LMMAXT_HKP_date.dt.dayofyear\n",
    "    \n",
    "    # Concatenate parsed date + Table \n",
    "    # LMMAXT_HKP_3: Concatenated Data\n",
    "    LMMAXT_HKP_3 = pd.concat([LMMAXT_HKP_date, LMMAXT_HKP_2[['year','value', 'Flag']]],\n",
    "            axis = 1)\n",
    "    LMMAXT_HKP_3 = LMMAXT_HKP_3.rename(columns = {0: \"Date\"})\n",
    "    \n",
    "    # Information on the observed period by Observatory:\n",
    "    Obs_summary['StartDate'] = LMMAXT_HKP_date.min()\n",
    "    Obs_summary['EndDate'] = LMMAXT_HKP_date.max()\n",
    "    \n",
    "    Data_summary = pd.concat([Data_summary, Obs_summary], axis = 0)\n",
    "    \n",
    "    Agg_Data = pd.concat([Agg_Data, LMMAXT_HKP_3], axis = 0, ignore_index=True)"
   ]
  },
  {
   "cell_type": "markdown",
   "metadata": {},
   "source": [
    "Check if all the lines are completed, computing the percentage of null values."
   ]
  },
  {
   "cell_type": "code",
   "execution_count": 89,
   "metadata": {},
   "outputs": [
    {
     "data": {
      "text/plain": [
       "0.0"
      ]
     },
     "execution_count": 89,
     "metadata": {},
     "output_type": "execute_result"
    }
   ],
   "source": [
    "round(100*Agg_Data.loc[Agg_Data['value'].isna()!=False].shape[0]/Agg_Data.shape[0],1)"
   ]
  },
  {
   "cell_type": "markdown",
   "metadata": {},
   "source": [
    "Total number of observations (From all observatories):"
   ]
  },
  {
   "cell_type": "code",
   "execution_count": 90,
   "metadata": {},
   "outputs": [
    {
     "name": "stdout",
     "output_type": "stream",
     "text": [
      "362334\n"
     ]
    }
   ],
   "source": [
    "total_obs = Data_summary['NObs_Dist'].sum()\n",
    "print(total_obs)"
   ]
  },
  {
   "cell_type": "markdown",
   "metadata": {},
   "source": [
    "Distribution by observatories:"
   ]
  },
  {
   "cell_type": "code",
   "execution_count": 123,
   "metadata": {},
   "outputs": [
    {
     "name": "stdout",
     "output_type": "stream",
     "text": [
      "  Observatory   NObs  Percentage(%)To_TotalOBS  ObservedPeriod(#Year)\n",
      "0         HKO  49006                     13.53                    144\n",
      "1         SHA  14764                      4.07                     41\n",
      "2         LFS  14399                      3.97                     40\n",
      "3         TKL  13425                      3.71                     38\n",
      "4         HKS  12999                      3.59                     37\n",
      "   Observatory  NObs  Percentage(%)To_TotalOBS  ObservedPeriod(#Year)\n",
      "33         TY1  5298                      1.46                     15\n",
      "34          TW  5201                      1.44                     15\n",
      "35         SE1  3730                      1.03                     11\n",
      "36         YLP  3637                      1.00                     11\n",
      "37         CWB  2285                      0.63                      7\n"
     ]
    }
   ],
   "source": [
    "Data_Composition = pd.DataFrame({\n",
    "    'Observatory':Data_summary['Dist'].values,\n",
    "    'NObs':Data_summary['NObs_Dist'].values,\n",
    "    'Percentage(%)To_TotalOBS':round((Data_summary['NObs_Dist']/total_obs)*100,2),\n",
    "    'ObservedPeriod(#Year)':[np.ceil(td/np.timedelta64(1, 'D')).astype(int) for td in (Data_summary['EndDate']-Data_summary['StartDate'])/(30*12)] \n",
    "})\n",
    "\n",
    "Data_Composition.sort_values(by=['Percentage(%)To_TotalOBS','ObservedPeriod(#Year)'], \n",
    "                             ascending = False,\n",
    "                             inplace = True)\n",
    "Data_Composition.reset_index(inplace=True, drop = True)\n",
    "print(Data_Composition.head())\n",
    "print(Data_Composition.tail())"
   ]
  },
  {
   "cell_type": "code",
   "execution_count": 120,
   "metadata": {},
   "outputs": [
    {
     "data": {
      "text/plain": [
       "np.float64(27.157894736842106)"
      ]
     },
     "execution_count": 120,
     "metadata": {},
     "output_type": "execute_result"
    }
   ],
   "source": [
    "Data_Composition['ObservedPeriod(#Year)'].mean()"
   ]
  },
  {
   "cell_type": "markdown",
   "metadata": {},
   "source": [
    "We see that the observatory which logged Temperature data for the longest period in Hong Kong is the one in Hong Kong park (for 144 years). It makes about 14% of the total dataset. The shortest observated period is given by Clear Water Bay Observatory (CWB, for 7 years). The mean value of the observed period over 38 observatories is 27 years."
   ]
  },
  {
   "cell_type": "code",
   "execution_count": 18,
   "metadata": {},
   "outputs": [
    {
     "name": "stdout",
     "output_type": "stream",
     "text": [
      "  Dist  NObs_Dist  NObs_Flagged  NObs_Starred  NObs_Str_Shrp  Purge_Pct(%)\n",
      "0  NGP       7855          3339           432            432          5.50\n",
      "0  SEK      10320          3391           439            439          4.25\n",
      "0  WGL      12968          5181           520            520          4.01\n",
      "0  JKB      12147          3298           412            412          3.39\n",
      "0  TPO       8710          2861           293            293          3.36\n",
      "...\n",
      "  Dist  NObs_Dist  NObs_Flagged  NObs_Starred  NObs_Str_Shrp  Purge_Pct(%)\n",
      "0  TY1       5298          2322             2              2          0.04\n",
      "0  SSH       7520          1259             3              3          0.04\n",
      "0   TW       5201          2339             2              2          0.04\n",
      "0  WTS       5816          2613             1              1          0.02\n",
      "0  HKO      49006             0             1              0          0.00\n"
     ]
    }
   ],
   "source": [
    "print(Data_summary.sort_values(by='Purge_Pct(%)', ascending=False).head())\n",
    "print(\"...\")\n",
    "print(Data_summary.sort_values(by='Purge_Pct(%)', ascending=False).tail())"
   ]
  },
  {
   "cell_type": "code",
   "execution_count": null,
   "metadata": {},
   "outputs": [],
   "source": [
    "\n",
    "\n",
    "Data_summary\n",
    "\n",
    "Data_summary.loc[Data_summary['Purge_Pct']<1].shape[0]/Data_summary.shape[0]\n",
    "\n",
    "treated_data_rep = r'0_Data/wrangled/' \n",
    "if not os.path.exists(treated_data_rep):\n",
    "    os.makedirs(treated_data_rep)\n",
    "Agg_Data.to_pickle(treated_data_rep+\"Agg_Data.pkl\")\n"
   ]
  }
 ],
 "metadata": {
  "kernelspec": {
   "display_name": ".venv",
   "language": "python",
   "name": "python3"
  },
  "language_info": {
   "codemirror_mode": {
    "name": "ipython",
    "version": 3
   },
   "file_extension": ".py",
   "mimetype": "text/x-python",
   "name": "python",
   "nbconvert_exporter": "python",
   "pygments_lexer": "ipython3",
   "version": "3.12.8"
  }
 },
 "nbformat": 4,
 "nbformat_minor": 2
}
