{
 "cells": [
  {
   "cell_type": "markdown",
   "metadata": {},
   "source": [
    "# Baseline Forecast"
   ]
  },
  {
   "cell_type": "code",
   "execution_count": 3,
   "metadata": {},
   "outputs": [
    {
     "name": "stdout",
     "output_type": "stream",
     "text": [
      "['/Users/nayeongkim/miniconda3/envs/HKweather/lib/python313.zip', '/Users/nayeongkim/miniconda3/envs/HKweather/lib/python3.13', '/Users/nayeongkim/miniconda3/envs/HKweather/lib/python3.13/lib-dynload', '', '/Users/nayeongkim/miniconda3/envs/HKweather/lib/python3.13/site-packages', '/Users/nayeongkim/Desktop/HKweather/', '/Users/nayeongkim/Desktop/HKweather/', '/Users/nayeongkim/Desktop/HKweather/']\n"
     ]
    },
    {
     "name": "stderr",
     "output_type": "stream",
     "text": [
      "/Users/nayeongkim/miniconda3/envs/HKweather/lib/python3.13/site-packages/tqdm/auto.py:21: TqdmWarning: IProgress not found. Please update jupyter and ipywidgets. See https://ipywidgets.readthedocs.io/en/stable/user_install.html\n",
      "  from .autonotebook import tqdm as notebook_tqdm\n"
     ]
    }
   ],
   "source": [
    "import sys\n",
    "sys.path.append('/Users/nayeongkim/Desktop/HKweather/')\n",
    "print(sys.path)\n",
    "import pandas as pd\n",
    "from functions.eval import evaluate_performance\n",
    "from functions import ts_utils"
   ]
  },
  {
   "cell_type": "code",
   "execution_count": 7,
   "metadata": {},
   "outputs": [],
   "source": [
    "daily_temp_train = pd.read_parquet(\"../0_Data/wrangled/daily_temp_train.parquet\")\n",
    "daily_temp_val = pd.read_parquet(\"../0_Data/wrangled/daily_temp_val.parquet\")\n",
    "daily_temp_test = pd.read_parquet(\"../0_Data/wrangled/daily_temp_test.parquet\")"
   ]
  },
  {
   "cell_type": "code",
   "execution_count": 8,
   "metadata": {},
   "outputs": [],
   "source": [
    "daily_temp_train.reset_index(inplace=True)\n",
    "daily_temp_val.reset_index(inplace=True)\n",
    "daily_temp_test.reset_index(inplace=True)"
   ]
  },
  {
   "cell_type": "code",
   "execution_count": 9,
   "metadata": {},
   "outputs": [],
   "source": [
    "daily_temp_train.reset_index(inplace=True)\n",
    "daily_temp_val.reset_index(inplace=True)\n",
    "daily_temp_test.reset_index(inplace=True)"
   ]
  },
  {
   "cell_type": "code",
   "execution_count": 10,
   "metadata": {},
   "outputs": [
    {
     "data": {
      "text/html": [
       "<div>\n",
       "<style scoped>\n",
       "    .dataframe tbody tr th:only-of-type {\n",
       "        vertical-align: middle;\n",
       "    }\n",
       "\n",
       "    .dataframe tbody tr th {\n",
       "        vertical-align: top;\n",
       "    }\n",
       "\n",
       "    .dataframe thead th {\n",
       "        text-align: right;\n",
       "    }\n",
       "</style>\n",
       "<table border=\"1\" class=\"dataframe\">\n",
       "  <thead>\n",
       "    <tr style=\"text-align: right;\">\n",
       "      <th></th>\n",
       "      <th>index</th>\n",
       "      <th>Date</th>\n",
       "      <th>TX</th>\n",
       "    </tr>\n",
       "  </thead>\n",
       "  <tbody>\n",
       "    <tr>\n",
       "      <th>0</th>\n",
       "      <td>0</td>\n",
       "      <td>2015-01-01</td>\n",
       "      <td>20.161111</td>\n",
       "    </tr>\n",
       "    <tr>\n",
       "      <th>1</th>\n",
       "      <td>1</td>\n",
       "      <td>2015-01-02</td>\n",
       "      <td>17.941667</td>\n",
       "    </tr>\n",
       "    <tr>\n",
       "      <th>2</th>\n",
       "      <td>2</td>\n",
       "      <td>2015-01-03</td>\n",
       "      <td>19.447222</td>\n",
       "    </tr>\n",
       "    <tr>\n",
       "      <th>3</th>\n",
       "      <td>3</td>\n",
       "      <td>2015-01-04</td>\n",
       "      <td>21.361111</td>\n",
       "    </tr>\n",
       "    <tr>\n",
       "      <th>4</th>\n",
       "      <td>4</td>\n",
       "      <td>2015-01-05</td>\n",
       "      <td>21.580556</td>\n",
       "    </tr>\n",
       "    <tr>\n",
       "      <th>...</th>\n",
       "      <td>...</td>\n",
       "      <td>...</td>\n",
       "      <td>...</td>\n",
       "    </tr>\n",
       "    <tr>\n",
       "      <th>26</th>\n",
       "      <td>26</td>\n",
       "      <td>2025-01-27</td>\n",
       "      <td>17.654054</td>\n",
       "    </tr>\n",
       "    <tr>\n",
       "      <th>27</th>\n",
       "      <td>27</td>\n",
       "      <td>2025-01-28</td>\n",
       "      <td>19.462162</td>\n",
       "    </tr>\n",
       "    <tr>\n",
       "      <th>28</th>\n",
       "      <td>28</td>\n",
       "      <td>2025-01-29</td>\n",
       "      <td>18.716216</td>\n",
       "    </tr>\n",
       "    <tr>\n",
       "      <th>29</th>\n",
       "      <td>29</td>\n",
       "      <td>2025-01-30</td>\n",
       "      <td>19.432432</td>\n",
       "    </tr>\n",
       "    <tr>\n",
       "      <th>30</th>\n",
       "      <td>30</td>\n",
       "      <td>2025-01-31</td>\n",
       "      <td>21.202703</td>\n",
       "    </tr>\n",
       "  </tbody>\n",
       "</table>\n",
       "<p>3684 rows × 3 columns</p>\n",
       "</div>"
      ],
      "text/plain": [
       "    index       Date         TX\n",
       "0       0 2015-01-01  20.161111\n",
       "1       1 2015-01-02  17.941667\n",
       "2       2 2015-01-03  19.447222\n",
       "3       3 2015-01-04  21.361111\n",
       "4       4 2015-01-05  21.580556\n",
       "..    ...        ...        ...\n",
       "26     26 2025-01-27  17.654054\n",
       "27     27 2025-01-28  19.462162\n",
       "28     28 2025-01-29  18.716216\n",
       "29     29 2025-01-30  19.432432\n",
       "30     30 2025-01-31  21.202703\n",
       "\n",
       "[3684 rows x 3 columns]"
      ]
     },
     "execution_count": 10,
     "metadata": {},
     "output_type": "execute_result"
    }
   ],
   "source": [
    "pred_df = pd.concat([daily_temp_train, daily_temp_val])\n",
    "pred_df"
   ]
  },
  {
   "cell_type": "code",
   "execution_count": 11,
   "metadata": {},
   "outputs": [],
   "source": [
    "from statsforecast.core import StatsForecast\n",
    "from utilsforecast.evaluation import evaluate\n",
    "from statsforecast.models import (\n",
    "    Naive,\n",
    "    SeasonalNaive,\n",
    "    HistoricAverage,\n",
    "    WindowAverage,\n",
    "    SeasonalWindowAverage,\n",
    "    RandomWalkWithDrift,\n",
    "    HoltWinters,\n",
    "    #ETS,\n",
    "    AutoETS,\n",
    "    AutoARIMA,\n",
    "    ARIMA,\n",
    "    AutoTheta,\n",
    "    DynamicTheta,\n",
    "    DynamicOptimizedTheta,\n",
    "    Theta,\n",
    "    OptimizedTheta,\n",
    "    TBATS,\n",
    "    AutoTBATS,\n",
    "    MSTL\n",
    "\n",
    ")"
   ]
  },
  {
   "cell_type": "code",
   "execution_count": 17,
   "metadata": {},
   "outputs": [
    {
     "ename": "NameError",
     "evalue": "name 'freq' is not defined",
     "output_type": "error",
     "traceback": [
      "\u001b[31m---------------------------------------------------------------------------\u001b[39m",
      "\u001b[31mNameError\u001b[39m                                 Traceback (most recent call last)",
      "\u001b[36mCell\u001b[39m\u001b[36m \u001b[39m\u001b[32mIn[17]\u001b[39m\u001b[32m, line 10\u001b[39m\n\u001b[32m      1\u001b[39m \u001b[38;5;28;01mfrom\u001b[39;00m\u001b[38;5;250m \u001b[39m\u001b[34;01mfunctions\u001b[39;00m\u001b[34;01m.\u001b[39;00m\u001b[34;01mts_utils\u001b[39;00m\u001b[38;5;250m \u001b[39m\u001b[38;5;28;01mimport\u001b[39;00m mase, mae, mse, forecast_bias\n\u001b[32m      3\u001b[39m metrics = pd.DataFrame()\n\u001b[32m      5\u001b[39m results, metrics = evaluate_performance(\n\u001b[32m      6\u001b[39m     ts_train=daily_temp_train, \n\u001b[32m      7\u001b[39m     ts_test=daily_temp_val, \n\u001b[32m      8\u001b[39m     models=[Naive()], \n\u001b[32m      9\u001b[39m     metrics=[mase, mae, mse, forecast_bias], \n\u001b[32m---> \u001b[39m\u001b[32m10\u001b[39m     freq=\u001b[43mfreq\u001b[49m,\n\u001b[32m     11\u001b[39m     level=[],  \u001b[38;5;66;03m# Ensure this is correct or adjust as necessary\u001b[39;00m\n\u001b[32m     12\u001b[39m     id_col=\u001b[33m'\u001b[39m\u001b[33mindex\u001b[39m\u001b[33m'\u001b[39m,\n\u001b[32m     13\u001b[39m     time_col=\u001b[33m'\u001b[39m\u001b[33mDate\u001b[39m\u001b[33m'\u001b[39m,\n\u001b[32m     14\u001b[39m     target_col=\u001b[33m'\u001b[39m\u001b[33mTS\u001b[39m\u001b[33m'\u001b[39m,\n\u001b[32m     15\u001b[39m     h=\u001b[38;5;28mlen\u001b[39m(daily_temp_val),\n\u001b[32m     16\u001b[39m     metric_df=metrics  \u001b[38;5;66;03m# Pass None or an existing DataFrame if you want to append results\u001b[39;00m\n\u001b[32m     17\u001b[39m )\n",
      "\u001b[31mNameError\u001b[39m: name 'freq' is not defined"
     ]
    }
   ],
   "source": [
    "from functions.ts_utils import mase, mae, mse, forecast_bias\n",
    "\n",
    "metrics = pd.DataFrame()\n",
    "\n",
    "results, metrics = evaluate_performance(\n",
    "    ts_train=daily_temp_train, \n",
    "    ts_test=daily_temp_val, \n",
    "    models=[Naive()], \n",
    "    metrics=[mase, mae, mse, forecast_bias], \n",
    "    freq=freq,\n",
    "    level=[],  # Ensure this is correct or adjust as necessary\n",
    "    id_col='index',\n",
    "    time_col='Date',\n",
    "    target_col='TS',\n",
    "    h=len(daily_temp_val),\n",
    "    metric_df=metrics  # Pass None or an existing DataFrame if you want to append results\n",
    ")"
   ]
  }
 ],
 "metadata": {
  "kernelspec": {
   "display_name": "HKweather",
   "language": "python",
   "name": "python3"
  },
  "language_info": {
   "codemirror_mode": {
    "name": "ipython",
    "version": 3
   },
   "file_extension": ".py",
   "mimetype": "text/x-python",
   "name": "python",
   "nbconvert_exporter": "python",
   "pygments_lexer": "ipython3",
   "version": "3.13.2"
  }
 },
 "nbformat": 4,
 "nbformat_minor": 2
}
