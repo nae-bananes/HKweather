{
 "cells": [
  {
   "cell_type": "markdown",
   "metadata": {},
   "source": [
    "# Creating the test and validation datasets\n",
    "\n",
    "- **Test dataset**: test data is like the final test of the chosen model. \n",
    "- **Validation dataset**: validation data is the data used in between different steps of learning to eventually adjust the following step during the algorithm learning.\n",
    "\n",
    "In regular regression or classification, we usually sample a few records at random and set them aside. But while dealing with time series, we need to respect the temporal aspect of the dataset. Therefore, a best practice is to set aside the latest part of the dataset as the test data.\n",
    "\n",
    "Another rule of thumb is to set equal-sized validation and test datasets so that the key modeling decisions we make based on the validation data are as close as possible to the test data. "
   ]
  },
  {
   "cell_type": "code",
   "execution_count": 19,
   "metadata": {},
   "outputs": [],
   "source": [
    "import pandas as pd\n",
    "import numpy as np"
   ]
  },
  {
   "cell_type": "code",
   "execution_count": 20,
   "metadata": {},
   "outputs": [
    {
     "data": {
      "text/plain": [
       "array([2015, 2016, 2017, 2018, 2019, 2020, 2021, 2022, 2023, 2024, 2025],\n",
       "      dtype=int32)"
      ]
     },
     "execution_count": 20,
     "metadata": {},
     "output_type": "execute_result"
    }
   ],
   "source": [
    "treated_data_rep = r'../0_Data/wrangled/' \n",
    "HKDaily_AGG = pd.read_pickle(treated_data_rep+\"HKDaily_AGG.pkl\")\n",
    "daily_temp= HKDaily_AGG[['TX']]\n",
    "daily_temp_10 = daily_temp.loc[daily_temp.index>'2014/12/31'] # 10 years period + January and February 2025 for test & validation\n",
    "np.unique(daily_temp_10.index.year)"
   ]
  },
  {
   "cell_type": "markdown",
   "metadata": {},
   "source": [
    "The observation period is from the first of January 2015 to the last day of February 2025. So, we can use the data of February 2025 as the final test dataset, and the one of January 2025 as the validation dataset, leaving the data of 10 years as the train dataset."
   ]
  },
  {
   "cell_type": "code",
   "execution_count": 21,
   "metadata": {},
   "outputs": [],
   "source": [
    "test_mask = (daily_temp_10.index.year==2025) & (daily_temp_10.index.month==2)\n",
    "val_mask = (daily_temp_10.index.year==2025) & (daily_temp_10.index.month==1)"
   ]
  },
  {
   "cell_type": "code",
   "execution_count": 24,
   "metadata": {},
   "outputs": [
    {
     "name": "stderr",
     "output_type": "stream",
     "text": [
      "/var/folders/6b/16jtbq3j6w17kqv1h2k9_zt80000gn/T/ipykernel_84615/2569332874.py:1: SettingWithCopyWarning: \n",
      "A value is trying to be set on a copy of a slice from a DataFrame.\n",
      "Try using .loc[row_indexer,col_indexer] = value instead\n",
      "\n",
      "See the caveats in the documentation: https://pandas.pydata.org/pandas-docs/stable/user_guide/indexing.html#returning-a-view-versus-a-copy\n",
      "  daily_temp_10.loc[:,'unique_id'] = 1.0\n"
     ]
    }
   ],
   "source": [
    "daily_temp_10.loc[:,'unique_id'] = 1.0"
   ]
  },
  {
   "cell_type": "code",
   "execution_count": 26,
   "metadata": {},
   "outputs": [],
   "source": [
    "daily_temp_10.columns = ['y', 'unique_id']"
   ]
  },
  {
   "cell_type": "code",
   "execution_count": 27,
   "metadata": {},
   "outputs": [
    {
     "name": "stdout",
     "output_type": "stream",
     "text": [
      "# of Training samples: 3653 | # of Validation samples: 31 | # of Test samples: 28\n",
      "Max Date in Train: 2024-12-31 00:00:00 | Min Date in Validation: 2025-01-01 00:00:00 | Min Date in Test: 2025-02-01 00:00:00\n"
     ]
    }
   ],
   "source": [
    "train = daily_temp_10[~(val_mask|test_mask)]\n",
    "val = daily_temp_10[val_mask]\n",
    "test = daily_temp_10[test_mask]\n",
    "print(f\"# of Training samples: {len(train)} | # of Validation samples: {len(val)} | # of Test samples: {len(test)}\")\n",
    "print(f\"Max Date in Train: {train.index.max()} | Min Date in Validation: {val.index.min()} | Min Date in Test: {test.index.min()}\")"
   ]
  },
  {
   "cell_type": "code",
   "execution_count": 28,
   "metadata": {},
   "outputs": [],
   "source": [
    "train.to_parquet(\"../0_Data/wrangled/daily_temp_train.parquet\")\n",
    "val.to_parquet(\"../0_Data/wrangled/daily_temp_val.parquet\")\n",
    "test.to_parquet(\"../0_Data/wrangled/daily_temp_test.parquet\")"
   ]
  }
 ],
 "metadata": {
  "kernelspec": {
   "display_name": "HKweather",
   "language": "python",
   "name": "python3"
  },
  "language_info": {
   "codemirror_mode": {
    "name": "ipython",
    "version": 3
   },
   "file_extension": ".py",
   "mimetype": "text/x-python",
   "name": "python",
   "nbconvert_exporter": "python",
   "pygments_lexer": "ipython3",
   "version": "3.13.2"
  }
 },
 "nbformat": 4,
 "nbformat_minor": 2
}
