{
 "cells": [
  {
   "cell_type": "markdown",
   "metadata": {},
   "source": [
    "# How the weather in Hong Kong differs from the weather in Paris?\n",
    "## In a few descriptive statistics..."
   ]
  },
  {
   "cell_type": "markdown",
   "metadata": {},
   "source": [
    "## (1) Temperature profile"
   ]
  },
  {
   "cell_type": "code",
   "execution_count": 2,
   "metadata": {},
   "outputs": [],
   "source": [
    "import pandas as pd\n",
    "import seaborn as sns\n",
    "import matplotlib.pyplot as plt\n",
    "sns.set_theme(style=\"dark\")"
   ]
  },
  {
   "cell_type": "code",
   "execution_count": 3,
   "metadata": {},
   "outputs": [],
   "source": [
    "treated_data_rep = r'../0_Data/wrangled/' \n",
    "PARIS_AGG = pd.read_pickle(treated_data_rep+\"PARIS_AGG.pkl\")\n",
    "HKDaily_AGG = pd.read_pickle(treated_data_rep+\"HKDaily_AGG.pkl\")"
   ]
  },
  {
   "cell_type": "code",
   "execution_count": 4,
   "metadata": {},
   "outputs": [],
   "source": [
    "Daily_Weather_Comp= HKDaily_AGG.join(PARIS_AGG, on = \"Date\", rsuffix = \"_PAR\")\n",
    "Daily_Weather_Comp['month'] = Daily_Weather_Comp.index.month\n"
   ]
  },
  {
   "cell_type": "code",
   "execution_count": 5,
   "metadata": {},
   "outputs": [
    {
     "name": "stdout",
     "output_type": "stream",
     "text": [
      "(0, 7)\n",
      "(21549, 7)\n"
     ]
    },
    {
     "data": {
      "text/html": [
       "<div>\n",
       "<style scoped>\n",
       "    .dataframe tbody tr th:only-of-type {\n",
       "        vertical-align: middle;\n",
       "    }\n",
       "\n",
       "    .dataframe tbody tr th {\n",
       "        vertical-align: top;\n",
       "    }\n",
       "\n",
       "    .dataframe thead th {\n",
       "        text-align: right;\n",
       "    }\n",
       "</style>\n",
       "<table border=\"1\" class=\"dataframe\">\n",
       "  <thead>\n",
       "    <tr style=\"text-align: right;\">\n",
       "      <th></th>\n",
       "      <th>TX</th>\n",
       "      <th>RR</th>\n",
       "      <th>UM</th>\n",
       "      <th>RR_PAR</th>\n",
       "      <th>TX_PAR</th>\n",
       "      <th>UM_PAR</th>\n",
       "      <th>month</th>\n",
       "    </tr>\n",
       "    <tr>\n",
       "      <th>Date</th>\n",
       "      <th></th>\n",
       "      <th></th>\n",
       "      <th></th>\n",
       "      <th></th>\n",
       "      <th></th>\n",
       "      <th></th>\n",
       "      <th></th>\n",
       "    </tr>\n",
       "  </thead>\n",
       "  <tbody>\n",
       "    <tr>\n",
       "      <th>1884-01-01</th>\n",
       "      <td>15.3</td>\n",
       "      <td>NaN</td>\n",
       "      <td>NaN</td>\n",
       "      <td>NaN</td>\n",
       "      <td>NaN</td>\n",
       "      <td>NaN</td>\n",
       "      <td>1</td>\n",
       "    </tr>\n",
       "    <tr>\n",
       "      <th>1884-01-02</th>\n",
       "      <td>17.1</td>\n",
       "      <td>NaN</td>\n",
       "      <td>NaN</td>\n",
       "      <td>NaN</td>\n",
       "      <td>NaN</td>\n",
       "      <td>NaN</td>\n",
       "      <td>1</td>\n",
       "    </tr>\n",
       "    <tr>\n",
       "      <th>1884-01-03</th>\n",
       "      <td>19.6</td>\n",
       "      <td>NaN</td>\n",
       "      <td>NaN</td>\n",
       "      <td>NaN</td>\n",
       "      <td>NaN</td>\n",
       "      <td>NaN</td>\n",
       "      <td>1</td>\n",
       "    </tr>\n",
       "    <tr>\n",
       "      <th>1884-01-04</th>\n",
       "      <td>23.2</td>\n",
       "      <td>NaN</td>\n",
       "      <td>NaN</td>\n",
       "      <td>NaN</td>\n",
       "      <td>NaN</td>\n",
       "      <td>NaN</td>\n",
       "      <td>1</td>\n",
       "    </tr>\n",
       "    <tr>\n",
       "      <th>1884-01-05</th>\n",
       "      <td>19.4</td>\n",
       "      <td>NaN</td>\n",
       "      <td>NaN</td>\n",
       "      <td>NaN</td>\n",
       "      <td>NaN</td>\n",
       "      <td>NaN</td>\n",
       "      <td>1</td>\n",
       "    </tr>\n",
       "    <tr>\n",
       "      <th>...</th>\n",
       "      <td>...</td>\n",
       "      <td>...</td>\n",
       "      <td>...</td>\n",
       "      <td>...</td>\n",
       "      <td>...</td>\n",
       "      <td>...</td>\n",
       "      <td>...</td>\n",
       "    </tr>\n",
       "    <tr>\n",
       "      <th>1949-12-27</th>\n",
       "      <td>20.7</td>\n",
       "      <td>0.0</td>\n",
       "      <td>68.0</td>\n",
       "      <td>NaN</td>\n",
       "      <td>NaN</td>\n",
       "      <td>NaN</td>\n",
       "      <td>12</td>\n",
       "    </tr>\n",
       "    <tr>\n",
       "      <th>1949-12-28</th>\n",
       "      <td>19.6</td>\n",
       "      <td>0.0</td>\n",
       "      <td>66.0</td>\n",
       "      <td>NaN</td>\n",
       "      <td>NaN</td>\n",
       "      <td>NaN</td>\n",
       "      <td>12</td>\n",
       "    </tr>\n",
       "    <tr>\n",
       "      <th>1949-12-29</th>\n",
       "      <td>22.6</td>\n",
       "      <td>NaN</td>\n",
       "      <td>68.0</td>\n",
       "      <td>NaN</td>\n",
       "      <td>NaN</td>\n",
       "      <td>NaN</td>\n",
       "      <td>12</td>\n",
       "    </tr>\n",
       "    <tr>\n",
       "      <th>1949-12-30</th>\n",
       "      <td>20.1</td>\n",
       "      <td>2.6</td>\n",
       "      <td>82.0</td>\n",
       "      <td>NaN</td>\n",
       "      <td>NaN</td>\n",
       "      <td>NaN</td>\n",
       "      <td>12</td>\n",
       "    </tr>\n",
       "    <tr>\n",
       "      <th>1949-12-31</th>\n",
       "      <td>20.2</td>\n",
       "      <td>1.4</td>\n",
       "      <td>98.0</td>\n",
       "      <td>NaN</td>\n",
       "      <td>NaN</td>\n",
       "      <td>NaN</td>\n",
       "      <td>12</td>\n",
       "    </tr>\n",
       "  </tbody>\n",
       "</table>\n",
       "<p>21549 rows × 7 columns</p>\n",
       "</div>"
      ],
      "text/plain": [
       "              TX   RR    UM  RR_PAR  TX_PAR  UM_PAR  month\n",
       "Date                                                      \n",
       "1884-01-01  15.3  NaN   NaN     NaN     NaN     NaN      1\n",
       "1884-01-02  17.1  NaN   NaN     NaN     NaN     NaN      1\n",
       "1884-01-03  19.6  NaN   NaN     NaN     NaN     NaN      1\n",
       "1884-01-04  23.2  NaN   NaN     NaN     NaN     NaN      1\n",
       "1884-01-05  19.4  NaN   NaN     NaN     NaN     NaN      1\n",
       "...          ...  ...   ...     ...     ...     ...    ...\n",
       "1949-12-27  20.7  0.0  68.0     NaN     NaN     NaN     12\n",
       "1949-12-28  19.6  0.0  66.0     NaN     NaN     NaN     12\n",
       "1949-12-29  22.6  NaN  68.0     NaN     NaN     NaN     12\n",
       "1949-12-30  20.1  2.6  82.0     NaN     NaN     NaN     12\n",
       "1949-12-31  20.2  1.4  98.0     NaN     NaN     NaN     12\n",
       "\n",
       "[21549 rows x 7 columns]"
      ]
     },
     "execution_count": 5,
     "metadata": {},
     "output_type": "execute_result"
    }
   ],
   "source": [
    "print(Daily_Weather_Comp.loc[Daily_Weather_Comp['TX'].isna()].shape)\n",
    "print(Daily_Weather_Comp.loc[Daily_Weather_Comp['TX_PAR'].isna()].shape)\n",
    "Daily_Weather_Comp.loc[Daily_Weather_Comp['TX_PAR'].isna()]"
   ]
  },
  {
   "cell_type": "markdown",
   "metadata": {},
   "source": [
    "Since the weather data for Paris stards only from 1950, let's filter the period before 1950 to conserve only the commonly observed dataset. For Temperature dataset of Paris, the dataset begins in 1950 and there is no more missing values after on."
   ]
  },
  {
   "cell_type": "code",
   "execution_count": 6,
   "metadata": {},
   "outputs": [
    {
     "name": "stderr",
     "output_type": "stream",
     "text": [
      "/var/folders/6b/16jtbq3j6w17kqv1h2k9_zt80000gn/T/ipykernel_48174/3582607573.py:2: SettingWithCopyWarning: \n",
      "A value is trying to be set on a copy of a slice from a DataFrame.\n",
      "Try using .loc[row_indexer,col_indexer] = value instead\n",
      "\n",
      "See the caveats in the documentation: https://pandas.pydata.org/pandas-docs/stable/user_guide/indexing.html#returning-a-view-versus-a-copy\n",
      "  Daily_Weather_Comp_TX['annee'] = Daily_Weather_Comp_TX.index.year\n"
     ]
    }
   ],
   "source": [
    "Daily_Weather_Comp_TX = Daily_Weather_Comp.loc[Daily_Weather_Comp['TX_PAR'].isna()]\n",
    "Daily_Weather_Comp_TX['annee'] = Daily_Weather_Comp_TX.index.year\n",
    "#Daily_Weather_Comp_TX.reset_index().groupby('annee').count()"
   ]
  },
  {
   "cell_type": "code",
   "execution_count": 7,
   "metadata": {},
   "outputs": [],
   "source": [
    "Daily_Weather_Comp_TX = Daily_Weather_Comp.loc[Daily_Weather_Comp.index>'1950-01-01']"
   ]
  },
  {
   "cell_type": "code",
   "execution_count": 8,
   "metadata": {},
   "outputs": [],
   "source": [
    "table_graph1 = Daily_Weather_Comp_TX[['month', 'TX','TX_PAR']].reset_index(drop = True)\n",
    "table_graph1 = table_graph1.melt(id_vars = \"month\")"
   ]
  },
  {
   "cell_type": "code",
   "execution_count": 9,
   "metadata": {},
   "outputs": [
    {
     "name": "stderr",
     "output_type": "stream",
     "text": [
      "/var/folders/6b/16jtbq3j6w17kqv1h2k9_zt80000gn/T/ipykernel_48174/1175993094.py:2: UserWarning: The palette list has more values (8) than needed (2), which may not be intended.\n",
      "  g = sns.violinplot(data=table_graph1, x=\"month\", y=\"value\", hue=\"variable\",\n"
     ]
    },
    {
     "data": {
      "image/png": "[encoded data removed]",
      "text/plain": [
       "<Figure size 640x480 with 1 Axes>"
      ]
     },
     "metadata": {},
     "output_type": "display_data"
    }
   ],
   "source": [
    "# Violin Plot of Temperature\n",
    "g = sns.violinplot(data=table_graph1, x=\"month\", y=\"value\", hue=\"variable\",\n",
    "               split=True, inner=\"quart\", fill=False,\n",
    "               palette=sns.color_palette(\"Set2\"))\n",
    "\n",
    "g.set_ylabel(\"Temperature (C)\")\n",
    "g.set_xlabel(\"Month of the year\")\n",
    "\n",
    "# Legend Modifications:\n",
    "\n",
    "L=plt.legend(loc='lower center', title='City')\n",
    "L.get_texts()[0].set_text('Hong Kong')\n",
    "L.get_texts()[1].set_text('Paris')"
   ]
  },
  {
   "cell_type": "markdown",
   "metadata": {},
   "source": [
    "Temperature variation for two cities seems to move in the same direction along the year - a diminution of temperature from October to December and back to a progressive increase during the period from January to July. \n",
    "\n",
    "Temperature in Hong Kong varies much less than in Paris, within the month (See the temperature standard deviation per month in the table below) and within the year (5.4 vs. 7.6 of standard deviation). The distance between the minimal and maximal values show that too (18.0 for Paris while 12.6 for Hong Kong).\n",
    "\n",
    "It is an interesting point that, in the winter time, the temperature varies more than in the summer time in Hong Kong, while it is the opposite for Paris. Which means that, in Hong Kong, it is hot every day in the summer without much variation between different days, and it is less hot but with much more variation in the winter - so it can still be hot occasionally. In Paris, in the summer time it is more variable in the summer time - there is more chance that the hot weather comes and goes for some days in summer. While, in the winter time as well, the standrad deviation of Temperature of Paris is higher (about 3.8) than the one in the winter in Hong Kong (and in particular the one of February, which is the maximal standard deviation for Hong Kong (3.77)). \n",
    "\n",
    "Therefore, in terms of temperature, Summer in Hong Kong will be more painful with its restless hot weather, and the winter will be more enjoyable since it is more probable to have some extraordinary sunny and warm day for the winter."
   ]
  },
  {
   "cell_type": "code",
   "execution_count": 10,
   "metadata": {},
   "outputs": [
    {
     "name": "stdout",
     "output_type": "stream",
     "text": [
      "TX  mean    12.624416\n",
      "dtype: object\n",
      "TX_PAR  mean    17.955518\n",
      "dtype: float64\n",
      "             TX     TX_PAR\n",
      "mean  25.399813  15.959487\n",
      "var   29.326604  58.331795\n",
      "std    5.415404   7.637525\n"
     ]
    },
    {
     "data": {
      "text/html": [
       "<div>\n",
       "<style scoped>\n",
       "    .dataframe tbody tr th:only-of-type {\n",
       "        vertical-align: middle;\n",
       "    }\n",
       "\n",
       "    .dataframe tbody tr th {\n",
       "        vertical-align: top;\n",
       "    }\n",
       "\n",
       "    .dataframe thead tr th {\n",
       "        text-align: left;\n",
       "    }\n",
       "\n",
       "    .dataframe thead tr:last-of-type th {\n",
       "        text-align: right;\n",
       "    }\n",
       "</style>\n",
       "<table border=\"1\" class=\"dataframe\">\n",
       "  <thead>\n",
       "    <tr>\n",
       "      <th></th>\n",
       "      <th colspan=\"3\" halign=\"left\">TX</th>\n",
       "      <th colspan=\"3\" halign=\"left\">TX_PAR</th>\n",
       "    </tr>\n",
       "    <tr>\n",
       "      <th></th>\n",
       "      <th>mean</th>\n",
       "      <th>var</th>\n",
       "      <th>std</th>\n",
       "      <th>mean</th>\n",
       "      <th>var</th>\n",
       "      <th>std</th>\n",
       "    </tr>\n",
       "    <tr>\n",
       "      <th>month</th>\n",
       "      <th></th>\n",
       "      <th></th>\n",
       "      <th></th>\n",
       "      <th></th>\n",
       "      <th></th>\n",
       "      <th></th>\n",
       "    </tr>\n",
       "  </thead>\n",
       "  <tbody>\n",
       "    <tr>\n",
       "      <th>1</th>\n",
       "      <td>18.485476</td>\n",
       "      <td>9.853673</td>\n",
       "      <td>3.139056</td>\n",
       "      <td>6.974156</td>\n",
       "      <td>17.429718</td>\n",
       "      <td>4.174891</td>\n",
       "    </tr>\n",
       "    <tr>\n",
       "      <th>2</th>\n",
       "      <td>18.398781</td>\n",
       "      <td>14.206765</td>\n",
       "      <td>3.769186</td>\n",
       "      <td>8.449039</td>\n",
       "      <td>18.867800</td>\n",
       "      <td>4.343708</td>\n",
       "    </tr>\n",
       "    <tr>\n",
       "      <th>3</th>\n",
       "      <td>20.815414</td>\n",
       "      <td>13.475079</td>\n",
       "      <td>3.670842</td>\n",
       "      <td>12.195983</td>\n",
       "      <td>18.449779</td>\n",
       "      <td>4.295321</td>\n",
       "    </tr>\n",
       "    <tr>\n",
       "      <th>4</th>\n",
       "      <td>24.536914</td>\n",
       "      <td>11.247149</td>\n",
       "      <td>3.353677</td>\n",
       "      <td>15.631511</td>\n",
       "      <td>19.703428</td>\n",
       "      <td>4.438854</td>\n",
       "    </tr>\n",
       "    <tr>\n",
       "      <th>5</th>\n",
       "      <td>28.168006</td>\n",
       "      <td>6.927624</td>\n",
       "      <td>2.632038</td>\n",
       "      <td>19.496937</td>\n",
       "      <td>19.697061</td>\n",
       "      <td>4.438137</td>\n",
       "    </tr>\n",
       "    <tr>\n",
       "      <th>6</th>\n",
       "      <td>30.061886</td>\n",
       "      <td>3.859614</td>\n",
       "      <td>1.964590</td>\n",
       "      <td>22.766983</td>\n",
       "      <td>19.049913</td>\n",
       "      <td>4.364621</td>\n",
       "    </tr>\n",
       "    <tr>\n",
       "      <th>7</th>\n",
       "      <td>31.023197</td>\n",
       "      <td>2.995222</td>\n",
       "      <td>1.730671</td>\n",
       "      <td>24.929674</td>\n",
       "      <td>18.409032</td>\n",
       "      <td>4.290575</td>\n",
       "    </tr>\n",
       "    <tr>\n",
       "      <th>8</th>\n",
       "      <td>30.853032</td>\n",
       "      <td>3.292301</td>\n",
       "      <td>1.814470</td>\n",
       "      <td>24.633177</td>\n",
       "      <td>17.004355</td>\n",
       "      <td>4.123634</td>\n",
       "    </tr>\n",
       "    <tr>\n",
       "      <th>9</th>\n",
       "      <td>30.114573</td>\n",
       "      <td>3.702311</td>\n",
       "      <td>1.924139</td>\n",
       "      <td>21.342070</td>\n",
       "      <td>15.102672</td>\n",
       "      <td>3.886216</td>\n",
       "    </tr>\n",
       "    <tr>\n",
       "      <th>10</th>\n",
       "      <td>27.6434</td>\n",
       "      <td>4.277624</td>\n",
       "      <td>2.068242</td>\n",
       "      <td>16.433811</td>\n",
       "      <td>14.968935</td>\n",
       "      <td>3.868971</td>\n",
       "    </tr>\n",
       "    <tr>\n",
       "      <th>11</th>\n",
       "      <td>24.095999</td>\n",
       "      <td>6.811258</td>\n",
       "      <td>2.609839</td>\n",
       "      <td>10.718230</td>\n",
       "      <td>13.843830</td>\n",
       "      <td>3.720730</td>\n",
       "    </tr>\n",
       "    <tr>\n",
       "      <th>12</th>\n",
       "      <td>20.310548</td>\n",
       "      <td>8.190449</td>\n",
       "      <td>2.861896</td>\n",
       "      <td>7.700655</td>\n",
       "      <td>15.418157</td>\n",
       "      <td>3.926596</td>\n",
       "    </tr>\n",
       "  </tbody>\n",
       "</table>\n",
       "</div>"
      ],
      "text/plain": [
       "              TX                          TX_PAR                     \n",
       "            mean        var       std       mean        var       std\n",
       "month                                                                \n",
       "1      18.485476   9.853673  3.139056   6.974156  17.429718  4.174891\n",
       "2      18.398781  14.206765  3.769186   8.449039  18.867800  4.343708\n",
       "3      20.815414  13.475079  3.670842  12.195983  18.449779  4.295321\n",
       "4      24.536914  11.247149  3.353677  15.631511  19.703428  4.438854\n",
       "5      28.168006   6.927624  2.632038  19.496937  19.697061  4.438137\n",
       "6      30.061886   3.859614  1.964590  22.766983  19.049913  4.364621\n",
       "7      31.023197   2.995222  1.730671  24.929674  18.409032  4.290575\n",
       "8      30.853032   3.292301  1.814470  24.633177  17.004355  4.123634\n",
       "9      30.114573   3.702311  1.924139  21.342070  15.102672  3.886216\n",
       "10       27.6434   4.277624  2.068242  16.433811  14.968935  3.868971\n",
       "11     24.095999   6.811258  2.609839  10.718230  13.843830  3.720730\n",
       "12     20.310548   8.190449  2.861896   7.700655  15.418157  3.926596"
      ]
     },
     "execution_count": 10,
     "metadata": {},
     "output_type": "execute_result"
    }
   ],
   "source": [
    "temperature_avg = Daily_Weather_Comp[['month','TX', 'TX_PAR']].groupby('month').agg(func=[\"mean\", \"var\", \"std\"])\n",
    "print(temperature_avg.reset_index()[[('TX', 'mean')]].max()-temperature_avg.reset_index()[[('TX', 'mean')]].min())\n",
    "print(temperature_avg.reset_index()[[('TX_PAR', 'mean')]].max()-temperature_avg.reset_index()[[('TX_PAR', 'mean')]].min())\n",
    "print(Daily_Weather_Comp[['TX', 'TX_PAR']].agg(func=[\"mean\", \"var\", \"std\"]))\n",
    "temperature_avg"
   ]
  },
  {
   "cell_type": "markdown",
   "metadata": {},
   "source": [
    "## (2) Humidity profile"
   ]
  },
  {
   "cell_type": "code",
   "execution_count": 11,
   "metadata": {},
   "outputs": [
    {
     "name": "stderr",
     "output_type": "stream",
     "text": [
      "/var/folders/6b/16jtbq3j6w17kqv1h2k9_zt80000gn/T/ipykernel_48174/3754899179.py:6: SettingWithCopyWarning: \n",
      "A value is trying to be set on a copy of a slice from a DataFrame.\n",
      "Try using .loc[row_indexer,col_indexer] = value instead\n",
      "\n",
      "See the caveats in the documentation: https://pandas.pydata.org/pandas-docs/stable/user_guide/indexing.html#returning-a-view-versus-a-copy\n",
      "  Daily_Weather_Comp_UM['annee'] = Daily_Weather_Comp_UM.index.year\n"
     ]
    }
   ],
   "source": [
    "# For Humidity:\n",
    "# Scatter plot with group color by month \n",
    "# Pair by day of the year\n",
    "\n",
    "Daily_Weather_Comp_UM = Daily_Weather_Comp.loc[Daily_Weather_Comp['UM_PAR'].isna()==False]\n",
    "Daily_Weather_Comp_UM['annee'] = Daily_Weather_Comp_UM.index.year\n",
    "cmpt_UM_PARIS = Daily_Weather_Comp_UM.reset_index().groupby('annee').count()"
   ]
  },
  {
   "cell_type": "code",
   "execution_count": 12,
   "metadata": {},
   "outputs": [
    {
     "data": {
      "text/html": [
       "<div>\n",
       "<style scoped>\n",
       "    .dataframe tbody tr th:only-of-type {\n",
       "        vertical-align: middle;\n",
       "    }\n",
       "\n",
       "    .dataframe tbody tr th {\n",
       "        vertical-align: top;\n",
       "    }\n",
       "\n",
       "    .dataframe thead th {\n",
       "        text-align: right;\n",
       "    }\n",
       "</style>\n",
       "<table border=\"1\" class=\"dataframe\">\n",
       "  <thead>\n",
       "    <tr style=\"text-align: right;\">\n",
       "      <th></th>\n",
       "      <th>Date</th>\n",
       "      <th>TX</th>\n",
       "      <th>RR</th>\n",
       "      <th>UM</th>\n",
       "      <th>RR_PAR</th>\n",
       "      <th>TX_PAR</th>\n",
       "      <th>UM_PAR</th>\n",
       "      <th>month</th>\n",
       "    </tr>\n",
       "    <tr>\n",
       "      <th>annee</th>\n",
       "      <th></th>\n",
       "      <th></th>\n",
       "      <th></th>\n",
       "      <th></th>\n",
       "      <th></th>\n",
       "      <th></th>\n",
       "      <th></th>\n",
       "      <th></th>\n",
       "    </tr>\n",
       "  </thead>\n",
       "  <tbody>\n",
       "    <tr>\n",
       "      <th>1982</th>\n",
       "      <td>350</td>\n",
       "      <td>350</td>\n",
       "      <td>279</td>\n",
       "      <td>350</td>\n",
       "      <td>350</td>\n",
       "      <td>350</td>\n",
       "      <td>350</td>\n",
       "      <td>350</td>\n",
       "    </tr>\n",
       "    <tr>\n",
       "      <th>1983</th>\n",
       "      <td>355</td>\n",
       "      <td>355</td>\n",
       "      <td>305</td>\n",
       "      <td>355</td>\n",
       "      <td>355</td>\n",
       "      <td>355</td>\n",
       "      <td>355</td>\n",
       "      <td>355</td>\n",
       "    </tr>\n",
       "    <tr>\n",
       "      <th>1984</th>\n",
       "      <td>352</td>\n",
       "      <td>352</td>\n",
       "      <td>305</td>\n",
       "      <td>352</td>\n",
       "      <td>352</td>\n",
       "      <td>352</td>\n",
       "      <td>352</td>\n",
       "      <td>352</td>\n",
       "    </tr>\n",
       "    <tr>\n",
       "      <th>1985</th>\n",
       "      <td>332</td>\n",
       "      <td>332</td>\n",
       "      <td>321</td>\n",
       "      <td>332</td>\n",
       "      <td>332</td>\n",
       "      <td>332</td>\n",
       "      <td>332</td>\n",
       "      <td>332</td>\n",
       "    </tr>\n",
       "    <tr>\n",
       "      <th>1986</th>\n",
       "      <td>337</td>\n",
       "      <td>337</td>\n",
       "      <td>337</td>\n",
       "      <td>337</td>\n",
       "      <td>337</td>\n",
       "      <td>337</td>\n",
       "      <td>337</td>\n",
       "      <td>337</td>\n",
       "    </tr>\n",
       "    <tr>\n",
       "      <th>2025</th>\n",
       "      <td>59</td>\n",
       "      <td>59</td>\n",
       "      <td>59</td>\n",
       "      <td>59</td>\n",
       "      <td>59</td>\n",
       "      <td>59</td>\n",
       "      <td>59</td>\n",
       "      <td>59</td>\n",
       "    </tr>\n",
       "  </tbody>\n",
       "</table>\n",
       "</div>"
      ],
      "text/plain": [
       "       Date   TX   RR   UM  RR_PAR  TX_PAR  UM_PAR  month\n",
       "annee                                                    \n",
       "1982    350  350  279  350     350     350     350    350\n",
       "1983    355  355  305  355     355     355     355    355\n",
       "1984    352  352  305  352     352     352     352    352\n",
       "1985    332  332  321  332     332     332     332    332\n",
       "1986    337  337  337  337     337     337     337    337\n",
       "2025     59   59   59   59      59      59      59     59"
      ]
     },
     "execution_count": 12,
     "metadata": {},
     "output_type": "execute_result"
    }
   ],
   "source": [
    "cmpt_UM_PARIS.loc[cmpt_UM_PARIS['UM_PAR']<360]"
   ]
  },
  {
   "cell_type": "markdown",
   "metadata": {},
   "source": [
    "In contrary to Temperature data, Humidity data for Paris starts only in 1958, and there are few missing values after on for few years in the early 80's. "
   ]
  },
  {
   "cell_type": "code",
   "execution_count": 13,
   "metadata": {},
   "outputs": [],
   "source": [
    "Daily_Weather_Comp_UM = Daily_Weather_Comp.loc[Daily_Weather_Comp.index>='1958-01-01']"
   ]
  },
  {
   "cell_type": "code",
   "execution_count": 14,
   "metadata": {},
   "outputs": [
    {
     "data": {
      "text/html": [
       "<div>\n",
       "<style scoped>\n",
       "    .dataframe tbody tr th:only-of-type {\n",
       "        vertical-align: middle;\n",
       "    }\n",
       "\n",
       "    .dataframe tbody tr th {\n",
       "        vertical-align: top;\n",
       "    }\n",
       "\n",
       "    .dataframe thead th {\n",
       "        text-align: right;\n",
       "    }\n",
       "</style>\n",
       "<table border=\"1\" class=\"dataframe\">\n",
       "  <thead>\n",
       "    <tr style=\"text-align: right;\">\n",
       "      <th></th>\n",
       "      <th>month</th>\n",
       "      <th>variable</th>\n",
       "      <th>value</th>\n",
       "    </tr>\n",
       "  </thead>\n",
       "  <tbody>\n",
       "    <tr>\n",
       "      <th>0</th>\n",
       "      <td>1</td>\n",
       "      <td>Hong Kong</td>\n",
       "      <td>73.0</td>\n",
       "    </tr>\n",
       "    <tr>\n",
       "      <th>1</th>\n",
       "      <td>1</td>\n",
       "      <td>Hong Kong</td>\n",
       "      <td>74.0</td>\n",
       "    </tr>\n",
       "    <tr>\n",
       "      <th>2</th>\n",
       "      <td>1</td>\n",
       "      <td>Hong Kong</td>\n",
       "      <td>58.0</td>\n",
       "    </tr>\n",
       "    <tr>\n",
       "      <th>3</th>\n",
       "      <td>1</td>\n",
       "      <td>Hong Kong</td>\n",
       "      <td>37.0</td>\n",
       "    </tr>\n",
       "    <tr>\n",
       "      <th>4</th>\n",
       "      <td>1</td>\n",
       "      <td>Hong Kong</td>\n",
       "      <td>41.0</td>\n",
       "    </tr>\n",
       "    <tr>\n",
       "      <th>...</th>\n",
       "      <td>...</td>\n",
       "      <td>...</td>\n",
       "      <td>...</td>\n",
       "    </tr>\n",
       "    <tr>\n",
       "      <th>49057</th>\n",
       "      <td>2</td>\n",
       "      <td>Paris</td>\n",
       "      <td>81.0</td>\n",
       "    </tr>\n",
       "    <tr>\n",
       "      <th>49058</th>\n",
       "      <td>2</td>\n",
       "      <td>Paris</td>\n",
       "      <td>89.5</td>\n",
       "    </tr>\n",
       "    <tr>\n",
       "      <th>49059</th>\n",
       "      <td>2</td>\n",
       "      <td>Paris</td>\n",
       "      <td>85.0</td>\n",
       "    </tr>\n",
       "    <tr>\n",
       "      <th>49060</th>\n",
       "      <td>2</td>\n",
       "      <td>Paris</td>\n",
       "      <td>76.5</td>\n",
       "    </tr>\n",
       "    <tr>\n",
       "      <th>49061</th>\n",
       "      <td>2</td>\n",
       "      <td>Paris</td>\n",
       "      <td>76.0</td>\n",
       "    </tr>\n",
       "  </tbody>\n",
       "</table>\n",
       "<p>49062 rows × 3 columns</p>\n",
       "</div>"
      ],
      "text/plain": [
       "       month   variable value\n",
       "0          1  Hong Kong  73.0\n",
       "1          1  Hong Kong  74.0\n",
       "2          1  Hong Kong  58.0\n",
       "3          1  Hong Kong  37.0\n",
       "4          1  Hong Kong  41.0\n",
       "...      ...        ...   ...\n",
       "49057      2      Paris  81.0\n",
       "49058      2      Paris  89.5\n",
       "49059      2      Paris  85.0\n",
       "49060      2      Paris  76.5\n",
       "49061      2      Paris  76.0\n",
       "\n",
       "[49062 rows x 3 columns]"
      ]
     },
     "execution_count": 14,
     "metadata": {},
     "output_type": "execute_result"
    }
   ],
   "source": [
    "table_graph1 = Daily_Weather_Comp_UM[['month', 'UM','UM_PAR']].reset_index(drop = True)\n",
    "table_graph1.columns = ['month', 'Hong Kong', 'Paris']\n",
    "table_graph1 = table_graph1.melt(id_vars = \"month\")\n",
    "table_graph1"
   ]
  },
  {
   "cell_type": "code",
   "execution_count": 15,
   "metadata": {},
   "outputs": [
    {
     "data": {
      "image/png": "[encoded data removed]",
      "text/plain": [
       "<Figure size 731.375x600 with 1 Axes>"
      ]
     },
     "metadata": {},
     "output_type": "display_data"
    }
   ],
   "source": [
    "sns.set_theme(style=\"dark\")\n",
    "g = sns.catplot(\n",
    "    data=table_graph1, kind=\"bar\",\n",
    "    x=\"month\", y=\"value\", hue=\"variable\",\n",
    "    errorbar=\"sd\", palette=\"dark\", alpha=.6, height=6\n",
    ")\n",
    "g.despine(left=True)\n",
    "g.set_axis_labels(\"Month of the year\", \"Average Humidity (%)\")\n",
    "g.legend.set_title(\"\")"
   ]
  },
  {
   "cell_type": "markdown",
   "metadata": {},
   "source": [
    "It is very interesting that the humidity movement along the year of twe cities is quite symmetric, in the opposite direction. Another difference is the standard deviation in the summer time. In Hong Kong, during the summer time, the weather is humid with less variation. It is whether uncertain that the weather is humid or dry during the winter time of Hong Kong, since the variance is much higher for that period. On the other hand, Paris humidity shows much more of standard deviation all along the year. "
   ]
  },
  {
   "cell_type": "markdown",
   "metadata": {},
   "source": [
    "## (3) Rainfall profile"
   ]
  },
  {
   "cell_type": "markdown",
   "metadata": {},
   "source": [
    "How about the rainfall data of these two cities? Does it rain much more in France? Or in Hong Kong? Without any hint, I might have chosen Hong Kong to rain more than in France, since the weather is hotter and more humid in Hong Kong. \n",
    "\n",
    "The rainfall data for Paris is more complete than the humidity data."
   ]
  },
  {
   "cell_type": "code",
   "execution_count": 16,
   "metadata": {},
   "outputs": [
    {
     "name": "stderr",
     "output_type": "stream",
     "text": [
      "/var/folders/6b/16jtbq3j6w17kqv1h2k9_zt80000gn/T/ipykernel_48174/1660204733.py:2: SettingWithCopyWarning: \n",
      "A value is trying to be set on a copy of a slice from a DataFrame.\n",
      "Try using .loc[row_indexer,col_indexer] = value instead\n",
      "\n",
      "See the caveats in the documentation: https://pandas.pydata.org/pandas-docs/stable/user_guide/indexing.html#returning-a-view-versus-a-copy\n",
      "  RRPARIS_data['annee'] = RRPARIS_data.index.year\n"
     ]
    },
    {
     "data": {
      "text/html": [
       "<div>\n",
       "<style scoped>\n",
       "    .dataframe tbody tr th:only-of-type {\n",
       "        vertical-align: middle;\n",
       "    }\n",
       "\n",
       "    .dataframe tbody tr th {\n",
       "        vertical-align: top;\n",
       "    }\n",
       "\n",
       "    .dataframe thead th {\n",
       "        text-align: right;\n",
       "    }\n",
       "</style>\n",
       "<table border=\"1\" class=\"dataframe\">\n",
       "  <thead>\n",
       "    <tr style=\"text-align: right;\">\n",
       "      <th></th>\n",
       "      <th>TX</th>\n",
       "      <th>RR</th>\n",
       "      <th>UM</th>\n",
       "      <th>RR_PAR</th>\n",
       "      <th>TX_PAR</th>\n",
       "      <th>UM_PAR</th>\n",
       "      <th>month</th>\n",
       "    </tr>\n",
       "    <tr>\n",
       "      <th>annee</th>\n",
       "      <th></th>\n",
       "      <th></th>\n",
       "      <th></th>\n",
       "      <th></th>\n",
       "      <th></th>\n",
       "      <th></th>\n",
       "      <th></th>\n",
       "    </tr>\n",
       "  </thead>\n",
       "  <tbody>\n",
       "    <tr>\n",
       "      <th>2025</th>\n",
       "      <td>59</td>\n",
       "      <td>59</td>\n",
       "      <td>59</td>\n",
       "      <td>59</td>\n",
       "      <td>59</td>\n",
       "      <td>59</td>\n",
       "      <td>59</td>\n",
       "    </tr>\n",
       "  </tbody>\n",
       "</table>\n",
       "</div>"
      ],
      "text/plain": [
       "       TX  RR  UM  RR_PAR  TX_PAR  UM_PAR  month\n",
       "annee                                           \n",
       "2025   59  59  59      59      59      59     59"
      ]
     },
     "execution_count": 16,
     "metadata": {},
     "output_type": "execute_result"
    }
   ],
   "source": [
    "RRPARIS_data = Daily_Weather_Comp.loc[Daily_Weather_Comp['RR_PAR'].isna()==False]\n",
    "RRPARIS_data['annee'] = RRPARIS_data.index.year\n",
    "cmpt_RRPARIS_data = RRPARIS_data.groupby('annee').count()\n",
    "cmpt_RRPARIS_data.loc[cmpt_RRPARIS_data['RR_PAR']<350]"
   ]
  },
  {
   "cell_type": "code",
   "execution_count": 17,
   "metadata": {},
   "outputs": [],
   "source": [
    "total_RF = RRPARIS_data[['annee', 'month', 'RR', 'RR_PAR']].groupby(['annee', 'month']).sum()\n",
    "total_RF.reset_index(inplace = True)\n",
    "del total_RF['annee']"
   ]
  },
  {
   "cell_type": "code",
   "execution_count": 24,
   "metadata": {},
   "outputs": [],
   "source": [
    "total_RF.columns = ['month','Hong Kong', 'Paris']\n",
    "total_RF = total_RF.melt(id_vars = 'month')"
   ]
  },
  {
   "cell_type": "code",
   "execution_count": 25,
   "metadata": {},
   "outputs": [
    {
     "data": {
      "image/png": "[encoded data removed]",
      "text/plain": [
       "<Figure size 731.375x600 with 1 Axes>"
      ]
     },
     "metadata": {},
     "output_type": "display_data"
    }
   ],
   "source": [
    "sns.set_theme(style=\"dark\")\n",
    "g = sns.catplot(\n",
    "    data=total_RF, kind=\"bar\",\n",
    "    x=\"month\", y=\"value\", hue=\"variable\",\n",
    "    errorbar=\"sd\", palette=\"dark\", alpha=.6, height=6\n",
    ")\n",
    "g.despine(left=True)\n",
    "g.set_axis_labels(\"Month of the year\", \"Average Monthly Total Rainfall (mm)\")\n",
    "g.legend.set_title(\"\")"
   ]
  },
  {
   "cell_type": "markdown",
   "metadata": {},
   "source": [
    "When we look at the monthly total rainfall data, it is very volatile in Hong Kong, especially during the summer time, while it rains almost always the same amount of rainfalls in Paris."
   ]
  }
 ],
 "metadata": {
  "kernelspec": {
   "display_name": "HKweather",
   "language": "python",
   "name": "python3"
  },
  "language_info": {
   "codemirror_mode": {
    "name": "ipython",
    "version": 3
   },
   "file_extension": ".py",
   "mimetype": "text/x-python",
   "name": "python",
   "nbconvert_exporter": "python",
   "pygments_lexer": "ipython3",
   "version": "3.13.2"
  }
 },
 "nbformat": 4,
 "nbformat_minor": 2
}
